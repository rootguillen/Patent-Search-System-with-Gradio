{
  "cells": [
    {
      "cell_type": "markdown",
      "metadata": {
        "id": "PlkbrcKgi0XT"
      },
      "source": [
        "* Added Machine Translation\n",
        "* Added User Interface using Gradio"
      ]
    },
    {
      "cell_type": "markdown",
      "metadata": {
        "id": "WUG0f-ERGKpk"
      },
      "source": [
        "# Patent Semantic Prior-art Search System\n",
        "* Using Text Embedding AI models and a Vector Database (Chroma)\n",
        "* Developed for educational purposes as an example of an AI system in the field of Intellectual Property.\n",
        "\n",
        "# Introduction\n",
        "* Developed by Gyudong HAN, Counsellor, WIPO  (gyudong.han@wipo.int)\n",
        "* I developed this system with reference to the general [text retrieval system](https://colab.research.google.com/drive/1gyGZn_LZNrYXYXa-pltFExbptIe7DAPe?usp=sharing) which was uploaded together with the [video clip](https://www.youtube.com/watch?v=3yPBVii7Ct0) named \"LangChain Retrieval QA Over Multiple Files with ChromaDB\".\n",
        "* But I changed almost everything. I changed the input data from general text data to patent title, abstract and claims. I used the same Vector Database (Chroma) but changed interface with reference to the [langchain chroma database manual](https://python.langchain.com/docs/integrations/vectorstores/chroma). I also changed the text embedding model from OpenAI to free open-source models according to the [langchain text embedding model's manual](https://python.langchain.com/docs/integrations/text_embedding/sentence_transformers).\n",
        "* The patents are data of the United States of America downloaded from the [data portal of USPTO](https://bulkdata.uspto.gov/), United States Patent and Trademark Office.\n",
        "\n",
        "# How this search system works\n",
        "* (Step 1) Convert titles, abstracts and claims of patent documents filed already into vectors (a set of numbers). Each vector can be represented as a point on a coordinate space. The converted vectors are stored in vector databases such as title vector database, abstract vector database and claims vector database.\n",
        "* (Step 2) Convert the query text into a vector.\n",
        "* (Step 3) Try to find similar texts by comparing the vectors. Similar texts are the nearby texts in the coordinate space. Texts can be compared with title, abstract or claims.\n",
        "* You can find the principle of this pilot system [here](https://drive.google.com/file/d/1BQZJR3qMecOWNJprM0c6Uy13WSSzniwP/view?usp=sharing).\n",
        "\n",
        "\n",
        "# How to execute\n",
        "* At first, click the \"Copy to Drive\" button above to copy this program to your Google Drive. (You need google account.) Then you can execute it.\n",
        "* You need to run each cell. Put mouse over ![image.png](data:image/png;base64,iVBORw0KGgoAAAANSUhEUgAAACMAAAAgCAYAAACYTcH3AAAAhElEQVRYCe2VQQoAIQwD/Wr//4AeXTwU5hIUoSBLDmIIWuNYcGTmfGWMV4KsHA6jXsNk/kEmImYNdSP6tXbN9E/0tmduiq6Db/Y5jHoykzEZRUD57hmTUQSUf9Qz9d+oIvRrbct3wIO69ZZMdwDWdxjSoDYZ0qA2GdKgNhnSoDYZ0qD+AAU2yq1mi34yAAAAAElFTkSuQmCC), it will change like this:![image.png](data:image/png;base64,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). Then, click the icon. The code of the cell will be executed and you can see the result right away.\n",
        "* Like this, you can run each cell one by one and can see the results."
      ]
    },
    {
      "cell_type": "markdown",
      "metadata": {
        "id": "_XAP2Zr-Rgs4"
      },
      "source": [
        "\n",
        "# Program Structure\n",
        "* Installing necessary libraries\n",
        "* Copy patent data of USA from USPTO data portal\n",
        "* Split the combined XML into separate XMLs\n",
        "* Extract title, abstract, claims, etc from splited XMLs\n",
        "* Load Text Embedding Model\n",
        "* Checking the embedding value of a sample text\n",
        "* Create Chroma Vector DB and store text embedding vectors in the DB\n",
        "* Test the system by querying texts to find similar patents"
      ]
    },
    {
      "cell_type": "markdown",
      "metadata": {
        "id": "Yk13lDBvWeIp"
      },
      "source": [
        "# Installing necessary libraries"
      ]
    },
    {
      "cell_type": "code",
      "execution_count": null,
      "metadata": {
        "id": "_10-ZB5SnfQB"
      },
      "outputs": [],
      "source": [
        "# install libraries\n",
        "!pip -q install langchain chromadb langchain-chroma sentence-transformers"
      ]
    },
    {
      "cell_type": "markdown",
      "metadata": {
        "id": "5zW-qdVZWf3K"
      },
      "source": [
        "# Copy patent data of USA from USPTO data portal\n",
        "  - Copy a zipped file and unzip it."
      ]
    },
    {
      "cell_type": "code",
      "execution_count": null,
      "metadata": {
        "colab": {
          "base_uri": "https://localhost:8080/"
        },
        "id": "tbnFmsRH4GiX",
        "outputId": "7c00f79b-2026-41db-f49b-0106ecad47fa"
      },
      "outputs": [
        {
          "name": "stdout",
          "output_type": "stream",
          "text": [
            "--2024-04-25 05:14:46--  https://bulkdata.uspto.gov/data/patent/application/redbook/fulltext/2021/ipa210121.zip\n",
            "Resolving bulkdata.uspto.gov (bulkdata.uspto.gov)... 151.207.245.28, 2610:20:5011:1604::28\n",
            "Connecting to bulkdata.uspto.gov (bulkdata.uspto.gov)|151.207.245.28|:443... connected.\n",
            "HTTP request sent, awaiting response... 200 OK\n",
            "Length: 146902825 (140M) [application/zip]\n",
            "Saving to: ‘ipa210121.zip’\n",
            "\n",
            "ipa210121.zip       100%[===================>] 140.10M  6.79MB/s    in 21s     \n",
            "\n",
            "2024-04-25 05:15:07 (6.71 MB/s) - ‘ipa210121.zip’ saved [146902825/146902825]\n",
            "\n",
            "Archive:  ipa210121.zip\n",
            "  inflating: ipa210121.xml           \n"
          ]
        }
      ],
      "source": [
        "# Copy an US patent application file from USPTO (Patent application data in January 21, 2021)\n",
        "!wget  https://bulkdata.uspto.gov/data/patent/application/redbook/fulltext/2021/ipa210121.zip\n",
        "!unzip \"ipa210121.zip\""
      ]
    },
    {
      "cell_type": "code",
      "execution_count": null,
      "metadata": {
        "id": "RiXVcmsX7A9H"
      },
      "outputs": [],
      "source": [
        "INPUT_FILENAME = \"ipa210121.xml\" # extracted file"
      ]
    },
    {
      "cell_type": "markdown",
      "metadata": {
        "id": "7fE6oaDCXp5o"
      },
      "source": [
        "# Split the combined XML into separate XMLs\n",
        "* USPTO's patent file distributed online daily is composed of a lot of patent application XMLs. So we need to split it into separate XMLs.\n",
        "* The combined XML has two kinds of xmls. One is a general PATENT application and the other is a SEQUENCE application.\n",
        "* Example of a combined XML: the following file has two patent applications and one sequence application. We will use only the patent applications. (We will not use the sequence applications.)\n",
        "```\n",
        "<?xml version=\"1.0\" encoding=\"UTF-8\"?>\n",
        "<!DOCTYPE us-patent-application SYSTEM \"us-patent-application\n",
        "...\n",
        "r member are in contact with the substrate.</claim-text>\n",
        "</claim>\n",
        "</claims>\n",
        "</us-patent-application>\n",
        "<?xml version=\"1.0\" encoding=\"UTF-8\"?>\n",
        "<!DOCTYPE us-patent-application SYSTEM \"us-patent-applicatio\n",
        "...\n",
        "ube comprises a window in the main portion.</claim-text>\n",
        "</claim>\n",
        "</claims>\n",
        "</us-patent-application>\n",
        "<?xml version=\"1.0\" encoding=\"UTF-8\"?>\n",
        "<!DOCTYPE sequence-cwu SYSTEM \"us-sequence-listing.dtd\" [ ]>\n",
        "...\n",
        "                                                              64\n",
        "</s400>\n",
        "</sequence-list-new-rules>\n",
        "```\n",
        "\n"
      ]
    },
    {
      "cell_type": "code",
      "execution_count": null,
      "metadata": {
        "id": "hSpONxoULnpC"
      },
      "outputs": [],
      "source": [
        "# Define a function to split the combined XML file into separate XML files\n",
        "\n",
        "import re\n",
        "\n",
        "def split_xml(input_filename, pat_end_tag, seq_end_tag):\n",
        "    try:\n",
        "        # Read the XML file and store its content\n",
        "        with open(input_filename, 'r', encoding='utf-8') as input_file:\n",
        "            xml_data = input_file.read()\n",
        "\n",
        "        # Define the regular expression pattern\n",
        "        # to match end tag of patent application xml OR end tag of sequence xml\n",
        "        pattern = f'{pat_end_tag}|{seq_end_tag}'\n",
        "\n",
        "        # Split the content based on the pattern\n",
        "        splited_xmls = re.split(pattern, xml_data)\n",
        "\n",
        "        return splited_xmls\n",
        "\n",
        "    except Exception as e:\n",
        "        print(\"Error:\", str(e))"
      ]
    },
    {
      "cell_type": "code",
      "execution_count": null,
      "metadata": {
        "colab": {
          "base_uri": "https://localhost:8080/"
        },
        "id": "KI2NHXWrLnvx",
        "outputId": "45f7a2ed-04ca-4863-f5cc-0dd6982bc77b"
      },
      "outputs": [
        {
          "name": "stdout",
          "output_type": "stream",
          "text": [
            "Total number of the splited XMLs:  7493\n",
            "patent application xmls:  7262  / sequence xmls:  231\n"
          ]
        }
      ],
      "source": [
        "# Split combined xml into PATENT-xmls and SEQUENCE-xmls\n",
        "\n",
        "input_filename = INPUT_FILENAME\n",
        "pat_end_tag = '</us-patent-application>'\n",
        "seq_end_tag = '</sequence-cwu>'\n",
        "# sequence xml starts with\n",
        "# '<?xml version=\"1.0\" encoding=\"UTF-8\"?>\\n<!DOCTYPE sequence-cwu SYSTEM \"'\n",
        "# patent application xml starts with\n",
        "# '<?xml version=\"1.0\" encoding=\"UTF-8\"?>\\n<!DOCTYPE us-patent-application'\n",
        "\n",
        "original_splited_xmls = split_xml(input_filename, pat_end_tag, seq_end_tag)\n",
        "\n",
        "del original_splited_xmls[-1] # delete the last xml because it is only '\\n'\n",
        "\n",
        "\n",
        "pat_splited_xmls = [] # list of splited patent-xmls\n",
        "seq_splited_xmls = [] # list of splited sequence-xmls\n",
        "\n",
        "for i, xml in enumerate(original_splited_xmls):\n",
        "  if xml[:100].count(\"sequence-cwu\") >= 1: # sequence xml\n",
        "    seq_splited_xmls.append(xml)\n",
        "  elif xml[:100].count(\"us-patent-application\") >= 1: # patent application xml\n",
        "    pat_splited_xmls.append(xml)\n",
        "  else:  # Output error message\n",
        "    print(\"There is other types of xml files rather than sequence or application in index \", i)\n",
        "    print(xml)\n",
        "\n",
        "# CAUTION: the end_tag was deleted when splited\n",
        "# So need to add end_tag to each separated xml\n",
        "\n",
        "for i in range(len(pat_splited_xmls)):\n",
        "  pat_splited_xmls[i] += pat_end_tag\n",
        "\n",
        "print(\"Total number of the splited XMLs: \", len(original_splited_xmls))\n",
        "print(\"patent application xmls: \", len(pat_splited_xmls), \" / sequence xmls: \", len(seq_splited_xmls))"
      ]
    },
    {
      "cell_type": "code",
      "execution_count": null,
      "metadata": {
        "colab": {
          "base_uri": "https://localhost:8080/"
        },
        "id": "RZnh-m2wLn0w",
        "outputId": "53148311-e732-4bb2-e85e-89fddb2545f3"
      },
      "outputs": [
        {
          "name": "stdout",
          "output_type": "stream",
          "text": [
            "Splited PATENT application xmls:\n",
            "\n",
            "\n",
            "Splited part  0\n",
            "<?xml version=\"1.0\" encoding=\"UTF-8\"?>\n",
            "<!DOCTYPE us-patent-application SYSTEM \"us-patent-application\n",
            "...\n",
            "r member are in contact with the substrate.</claim-text>\n",
            "</claim>\n",
            "</claims>\n",
            "</us-patent-application>\n",
            "\n",
            "\n",
            "Splited part  1\n",
            "\n",
            "<?xml version=\"1.0\" encoding=\"UTF-8\"?>\n",
            "<!DOCTYPE us-patent-application SYSTEM \"us-patent-applicatio\n",
            "...\n",
            "ube comprises a window in the main portion.</claim-text>\n",
            "</claim>\n",
            "</claims>\n",
            "</us-patent-application>\n",
            "\n",
            "\n",
            "Splited part  2\n",
            "\n",
            "<?xml version=\"1.0\" encoding=\"UTF-8\"?>\n",
            "<!DOCTYPE us-patent-application SYSTEM \"us-patent-applicatio\n",
            "...\n",
            "g attachment over and/or through said soil.</claim-text>\n",
            "</claim>\n",
            "</claims>\n",
            "</us-patent-application>\n",
            "\n",
            "\n",
            "Splited part  3\n",
            "\n",
            "<?xml version=\"1.0\" encoding=\"UTF-8\"?>\n",
            "<!DOCTYPE us-patent-application SYSTEM \"us-patent-applicatio\n",
            "...\n",
            " pins to secure the plow to the plow mount.</claim-text>\n",
            "</claim>\n",
            "</claims>\n",
            "</us-patent-application>\n",
            "\n",
            "\n",
            "Splited part  4\n",
            "\n",
            "<?xml version=\"1.0\" encoding=\"UTF-8\"?>\n",
            "<!DOCTYPE us-patent-application SYSTEM \"us-patent-applicatio\n",
            "...\n",
            "m in response to the local visual response.</claim-text>\n",
            "</claim>\n",
            "</claims>\n",
            "</us-patent-application>\n",
            "\n",
            "\n",
            "Splited part  5\n",
            "\n",
            "<?xml version=\"1.0\" encoding=\"UTF-8\"?>\n",
            "<!DOCTYPE us-patent-application SYSTEM \"us-patent-applicatio\n",
            "...\n",
            "value of which was not varied in the trial.</claim-text>\n",
            "</claim>\n",
            "</claims>\n",
            "</us-patent-application>\n",
            "\n",
            "\n",
            "Splited part  6\n",
            "\n",
            "<?xml version=\"1.0\" encoding=\"UTF-8\"?>\n",
            "<!DOCTYPE us-patent-application SYSTEM \"us-patent-applicatio\n",
            "...\n",
            " thereby placing the sapling in the ground.</claim-text>\n",
            "</claim>\n",
            "</claims>\n",
            "</us-patent-application>\n",
            "\n",
            "\n",
            "Splited part  7\n",
            "\n",
            "<?xml version=\"1.0\" encoding=\"UTF-8\"?>\n",
            "<!DOCTYPE us-patent-application SYSTEM \"us-patent-applicatio\n",
            "...\n",
            " side of the seed meter disk.</claim-text>\n",
            "</claim-text>\n",
            "</claim>\n",
            "</claims>\n",
            "</us-patent-application>\n",
            "\n",
            "\n",
            "Splited part  8\n",
            "\n",
            "<?xml version=\"1.0\" encoding=\"UTF-8\"?>\n",
            "<!DOCTYPE us-patent-application SYSTEM \"us-patent-applicatio\n",
            "...\n",
            "al is received from a user input interface.</claim-text>\n",
            "</claim>\n",
            "</claims>\n",
            "</us-patent-application>\n",
            "\n",
            "\n",
            "Splited part  9\n",
            "\n",
            "<?xml version=\"1.0\" encoding=\"UTF-8\"?>\n",
            "<!DOCTYPE us-patent-application SYSTEM \"us-patent-applicatio\n",
            "...\n",
            "g plate for a planting cycle.</claim-text>\n",
            "</claim-text>\n",
            "</claim>\n",
            "</claims>\n",
            "</us-patent-application>\n",
            "\n",
            "\n",
            "Splited part  10\n",
            "\n",
            "<?xml version=\"1.0\" encoding=\"UTF-8\"?>\n",
            "<!DOCTYPE us-patent-application SYSTEM \"us-patent-applicatio\n",
            "...\n",
            "sed on a cycle time or a planting distance.</claim-text>\n",
            "</claim>\n",
            "</claims>\n",
            "</us-patent-application>\n",
            "\n",
            "\n",
            "Splited part  11\n",
            "\n",
            "<?xml version=\"1.0\" encoding=\"UTF-8\"?>\n",
            "<!DOCTYPE us-patent-application SYSTEM \"us-patent-applicatio\n",
            "...\n",
            "ons extend in the second lateral direction.</claim-text>\n",
            "</claim>\n",
            "</claims>\n",
            "</us-patent-application>\n",
            "\n",
            "\n",
            "Splited part  12\n",
            "\n",
            "<?xml version=\"1.0\" encoding=\"UTF-8\"?>\n",
            "<!DOCTYPE us-patent-application SYSTEM \"us-patent-applicatio\n",
            "...\n",
            " creep control valve is in the first state.</claim-text>\n",
            "</claim>\n",
            "</claims>\n",
            "</us-patent-application>\n",
            "\n",
            "\n",
            "Splited part  13\n",
            "\n",
            "<?xml version=\"1.0\" encoding=\"UTF-8\"?>\n",
            "<!DOCTYPE us-patent-application SYSTEM \"us-patent-applicatio\n",
            "...\n",
            " degree of stem conditioning.</claim-text>\n",
            "</claim-text>\n",
            "</claim>\n",
            "</claims>\n",
            "</us-patent-application>\n",
            "\n",
            "\n",
            "Splited part  14\n",
            "\n",
            "<?xml version=\"1.0\" encoding=\"UTF-8\"?>\n",
            "<!DOCTYPE us-patent-application SYSTEM \"us-patent-applicatio\n",
            "...\n",
            "hat is secured by a plurality of fasteners.</claim-text>\n",
            "</claim>\n",
            "</claims>\n",
            "</us-patent-application>\n",
            "\n",
            "\n",
            "Splited part  15\n",
            "\n",
            "<?xml version=\"1.0\" encoding=\"UTF-8\"?>\n",
            "<!DOCTYPE us-patent-application SYSTEM \"us-patent-applicatio\n",
            "...\n",
            " blade for cutting an object.</claim-text>\n",
            "</claim-text>\n",
            "</claim>\n",
            "</claims>\n",
            "</us-patent-application>\n",
            "\n",
            "\n",
            "Splited part  16\n",
            "\n",
            "<?xml version=\"1.0\" encoding=\"UTF-8\"?>\n",
            "<!DOCTYPE us-patent-application SYSTEM \"us-patent-applicatio\n",
            "...\n",
            "ass through the head housing and the spool.</claim-text>\n",
            "</claim>\n",
            "</claims>\n",
            "</us-patent-application>\n",
            "\n",
            "\n",
            "Splited part  17\n",
            "\n",
            "<?xml version=\"1.0\" encoding=\"UTF-8\"?>\n",
            "<!DOCTYPE us-patent-application SYSTEM \"us-patent-applicatio\n",
            "...\n",
            "<claim-text><b>39</b>-<b>46</b>. (canceled)</claim-text>\n",
            "</claim>\n",
            "</claims>\n",
            "</us-patent-application>\n",
            "\n",
            "\n",
            "Splited part  18\n",
            "\n",
            "<?xml version=\"1.0\" encoding=\"UTF-8\"?>\n",
            "<!DOCTYPE us-patent-application SYSTEM \"us-patent-applicatio\n",
            "...\n",
            " cutter disc separation and engagement arm.</claim-text>\n",
            "</claim>\n",
            "</claims>\n",
            "</us-patent-application>\n",
            "\n",
            "\n",
            "Splited part  19\n",
            "\n",
            "<?xml version=\"1.0\" encoding=\"UTF-8\"?>\n",
            "<!DOCTYPE us-patent-application SYSTEM \"us-patent-applicatio\n",
            "...\n",
            "s of the two rod bodies near the main body.</claim-text>\n",
            "</claim>\n",
            "</claims>\n",
            "</us-patent-application>\n",
            "\n",
            "\n",
            "Splited part  7243\n",
            "\n",
            "<?xml version=\"1.0\" encoding=\"UTF-8\"?>\n",
            "<!DOCTYPE us-patent-application SYSTEM \"us-patent-applicatio\n",
            "...\n",
            "ial opaque to visible frequencies of light.</claim-text>\n",
            "</claim>\n",
            "</claims>\n",
            "</us-patent-application>\n",
            "\n",
            "\n",
            "Splited part  7244\n",
            "\n",
            "<?xml version=\"1.0\" encoding=\"UTF-8\"?>\n",
            "<!DOCTYPE us-patent-application SYSTEM \"us-patent-applicatio\n",
            "...\n",
            "ref idref=\"CLM-00014\">claim 14</claim-ref>.</claim-text>\n",
            "</claim>\n",
            "</claims>\n",
            "</us-patent-application>\n",
            "\n",
            "\n",
            "Splited part  7245\n",
            "\n",
            "<?xml version=\"1.0\" encoding=\"UTF-8\"?>\n",
            "<!DOCTYPE us-patent-application SYSTEM \"us-patent-applicatio\n",
            "...\n",
            "ased on a prediction by a prediction model.</claim-text>\n",
            "</claim>\n",
            "</claims>\n",
            "</us-patent-application>\n",
            "\n",
            "\n",
            "Splited part  7246\n",
            "\n",
            "<?xml version=\"1.0\" encoding=\"UTF-8\"?>\n",
            "<!DOCTYPE us-patent-application SYSTEM \"us-patent-applicatio\n",
            "...\n",
            " first heat dissipation area.</claim-text>\n",
            "</claim-text>\n",
            "</claim>\n",
            "</claims>\n",
            "</us-patent-application>\n",
            "\n",
            "\n",
            "Splited part  7247\n",
            "\n",
            "<?xml version=\"1.0\" encoding=\"UTF-8\"?>\n",
            "<!DOCTYPE us-patent-application SYSTEM \"us-patent-applicatio\n",
            "...\n",
            "return to the cooling device.</claim-text>\n",
            "</claim-text>\n",
            "</claim>\n",
            "</claims>\n",
            "</us-patent-application>\n",
            "\n",
            "\n",
            "Splited part  7248\n",
            "\n",
            "<?xml version=\"1.0\" encoding=\"UTF-8\"?>\n",
            "<!DOCTYPE us-patent-application SYSTEM \"us-patent-applicatio\n",
            "...\n",
            "f a mobile phone or tablet computer device.</claim-text>\n",
            "</claim>\n",
            "</claims>\n",
            "</us-patent-application>\n",
            "\n",
            "\n",
            "Splited part  7249\n",
            "\n",
            "<?xml version=\"1.0\" encoding=\"UTF-8\"?>\n",
            "<!DOCTYPE us-patent-application SYSTEM \"us-patent-applicatio\n",
            "...\n",
            "g penetrated by the at least one connector.</claim-text>\n",
            "</claim>\n",
            "</claims>\n",
            "</us-patent-application>\n",
            "\n",
            "\n",
            "Splited part  7250\n",
            "\n",
            "<?xml version=\"1.0\" encoding=\"UTF-8\"?>\n",
            "<!DOCTYPE us-patent-application SYSTEM \"us-patent-applicatio\n",
            "...\n",
            " communication with a heat transfer member.</claim-text>\n",
            "</claim>\n",
            "</claims>\n",
            "</us-patent-application>\n",
            "\n",
            "\n",
            "Splited part  7251\n",
            "\n",
            "<?xml version=\"1.0\" encoding=\"UTF-8\"?>\n",
            "<!DOCTYPE us-patent-application SYSTEM \"us-patent-applicatio\n",
            "...\n",
            "e the first isolated portion.</claim-text>\n",
            "</claim-text>\n",
            "</claim>\n",
            "</claims>\n",
            "</us-patent-application>\n",
            "\n",
            "\n",
            "Splited part  7252\n",
            "\n",
            "<?xml version=\"1.0\" encoding=\"UTF-8\"?>\n",
            "<!DOCTYPE us-patent-application SYSTEM \"us-patent-applicatio\n",
            "...\n",
            " portion of the device and the feedthrough.</claim-text>\n",
            "</claim>\n",
            "</claims>\n",
            "</us-patent-application>\n",
            "\n",
            "\n",
            "Splited part  7253\n",
            "\n",
            "<?xml version=\"1.0\" encoding=\"UTF-8\"?>\n",
            "<!DOCTYPE us-patent-application SYSTEM \"us-patent-applicatio\n",
            "...\n",
            "omprises limiting gas access to the device.</claim-text>\n",
            "</claim>\n",
            "</claims>\n",
            "</us-patent-application>\n",
            "\n",
            "\n",
            "Splited part  7254\n",
            "\n",
            "<?xml version=\"1.0\" encoding=\"UTF-8\"?>\n",
            "<!DOCTYPE us-patent-application SYSTEM \"us-patent-applicatio\n",
            "...\n",
            "ches the maximum speed state.</claim-text>\n",
            "</claim-text>\n",
            "</claim>\n",
            "</claims>\n",
            "</us-patent-application>\n",
            "\n",
            "\n",
            "Splited part  7255\n",
            "\n",
            "<?xml version=\"1.0\" encoding=\"UTF-8\"?>\n",
            "<!DOCTYPE us-patent-application SYSTEM \"us-patent-applicatio\n",
            "...\n",
            " or flat panel electronic image assemblies.</claim-text>\n",
            "</claim>\n",
            "</claims>\n",
            "</us-patent-application>\n",
            "\n",
            "\n",
            "Splited part  7256\n",
            "\n",
            "<?xml version=\"1.0\" encoding=\"UTF-8\"?>\n",
            "<!DOCTYPE us-patent-application SYSTEM \"us-patent-applicatio\n",
            "...\n",
            "ehicle exterior surface comprises a pillar.</claim-text>\n",
            "</claim>\n",
            "</claims>\n",
            "</us-patent-application>\n",
            "\n",
            "\n",
            "Splited part  7257\n",
            "\n",
            "<?xml version=\"1.0\" encoding=\"UTF-8\"?>\n",
            "<!DOCTYPE us-patent-application SYSTEM \"us-patent-applicatio\n",
            "...\n",
            "R absorbing vents to generate the gas flow.</claim-text>\n",
            "</claim>\n",
            "</claims>\n",
            "</us-patent-application>\n",
            "\n",
            "\n",
            "Splited part  7258\n",
            "\n",
            "<?xml version=\"1.0\" encoding=\"UTF-8\"?>\n",
            "<!DOCTYPE us-patent-application SYSTEM \"us-patent-applicatio\n",
            "...\n",
            " side of the internal volume.</claim-text>\n",
            "</claim-text>\n",
            "</claim>\n",
            "</claims>\n",
            "</us-patent-application>\n",
            "\n",
            "\n",
            "Splited part  7259\n",
            "\n",
            "<?xml version=\"1.0\" encoding=\"UTF-8\"?>\n",
            "<!DOCTYPE us-patent-application SYSTEM \"us-patent-applicatio\n",
            "...\n",
            "eed connection.</claim-text>\n",
            "</claim-text>\n",
            "</claim-text>\n",
            "</claim>\n",
            "</claims>\n",
            "</us-patent-application>\n",
            "\n",
            "\n",
            "Splited part  7260\n",
            "\n",
            "<?xml version=\"1.0\" encoding=\"UTF-8\"?>\n",
            "<!DOCTYPE us-patent-application SYSTEM \"us-patent-applicatio\n",
            "...\n",
            " and the second identification information.</claim-text>\n",
            "</claim>\n",
            "</claims>\n",
            "</us-patent-application>\n",
            "\n",
            "\n",
            "Splited part  7261\n",
            "\n",
            "<?xml version=\"1.0\" encoding=\"UTF-8\"?>\n",
            "<!DOCTYPE us-patent-application SYSTEM \"us-patent-applicatio\n",
            "...\n",
            "tially as described and illustrated herein.</claim-text>\n",
            "</claim>\n",
            "</claims>\n",
            "</us-patent-application>\n",
            "\n",
            "\n",
            "Splited part  7262\n",
            "\n",
            "<?xml version=\"1.0\" encoding=\"UTF-8\"?>\n",
            "<!DOCTYPE us-patent-application SYSTEM \"us-patent-applicatio\n",
            "...\n",
            "tially as described and illustrated herein.</claim-text>\n",
            "</claim>\n",
            "</claims>\n",
            "</us-patent-application>\n"
          ]
        }
      ],
      "source": [
        "# Print out splited PATENT application xmls\n",
        "\n",
        "pat_splited_xmls_count = len(pat_splited_xmls)\n",
        "\n",
        "# Print out the splited parts.\n",
        "# Print only front 20 and back 20 if the number of splited part exceeds 40\n",
        "# Otherwise print out all the xml files\n",
        "\n",
        "print(\"Splited PATENT application xmls:\")\n",
        "if pat_splited_xmls_count <= 40:\n",
        "  for i in range(pat_splited_xmls_count):\n",
        "    print(\"\\n\\nSplited part \", i)\n",
        "    print(pat_splited_xmls[i][:100])\n",
        "    print(\"...\")\n",
        "    print(pat_splited_xmls[i][-100:])\n",
        "else: # pat_splited_xmls_count > 40\n",
        "  for i in range(20):\n",
        "    print(\"\\n\\nSplited part \", i)\n",
        "    print(pat_splited_xmls[i][:100])\n",
        "    print(\"...\")\n",
        "    print(pat_splited_xmls[i][-100:])\n",
        "  for i in range(20):\n",
        "    print(\"\\n\\nSplited part \", pat_splited_xmls_count - 19 + i)\n",
        "    print(pat_splited_xmls[pat_splited_xmls_count - 20 + i][:100])\n",
        "    print(\"...\")\n",
        "    print(pat_splited_xmls[pat_splited_xmls_count - 20 + i][-100:])"
      ]
    },
    {
      "cell_type": "code",
      "execution_count": null,
      "metadata": {
        "colab": {
          "base_uri": "https://localhost:8080/"
        },
        "id": "onhUf7WWC5vL",
        "outputId": "31944811-da83-4b8b-b127-1a809c3a29e8"
      },
      "outputs": [
        {
          "name": "stdout",
          "output_type": "stream",
          "text": [
            "Splited SEQUENCE xmls:\n",
            "\n",
            "\n",
            "Splited part  0\n",
            "\n",
            "<?xml version=\"1.0\" encoding=\"UTF-8\"?>\n",
            "<!DOCTYPE sequence-cwu SYSTEM \"us-sequence-listing.dtd\" [ ]>\n",
            "...\n",
            "                                                              64\n",
            "</s400>\n",
            "</sequence-list-new-rules>\n",
            "\n",
            "\n",
            "\n",
            "Splited part  1\n",
            "\n",
            "<?xml version=\"1.0\" encoding=\"UTF-8\"?>\n",
            "<!DOCTYPE sequence-cwu SYSTEM \"us-sequence-listing.dtd\" [ ]>\n",
            "...\n",
            "tg ccgaacggac gac                                             23\n",
            "</s400>\n",
            "</sequence-list-new-rules>\n",
            "\n",
            "\n",
            "\n",
            "Splited part  230\n",
            "\n",
            "<?xml version=\"1.0\" encoding=\"UTF-8\"?>\n",
            "<!DOCTYPE sequence-cwu SYSTEM \"us-sequence-listing.dtd\" [ ]>\n",
            "...\n",
            "\n",
            "<row>\n",
            "<entry namest=\"1\" nameend=\"1\" align=\"center\" rowsep=\"1\"/>\n",
            "</row>\n",
            "</tbody>\n",
            "</tgroup>\n",
            "</table>\n",
            "\n",
            "\n",
            "\n",
            "Splited part  231\n",
            "\n",
            "<?xml version=\"1.0\" encoding=\"UTF-8\"?>\n",
            "<!DOCTYPE sequence-cwu SYSTEM \"us-sequence-listing.dtd\" [ ]>\n",
            "...\n",
            "p Gly\n",
            "1               5                   10                  15\n",
            "</s400>\n",
            "</sequence-list-new-rules>\n",
            "\n"
          ]
        }
      ],
      "source": [
        "# Print out splited SEQUENCE xmls\n",
        "\n",
        "seq_splited_xmls_count = len(seq_splited_xmls)\n",
        "\n",
        "# Print out the splited parts.\n",
        "# Print only front 2 and back 2 if the number of splited part exceeds 4\n",
        "# Otherwise print out all the xml files\n",
        "\n",
        "print(\"Splited SEQUENCE xmls:\")\n",
        "if seq_splited_xmls_count <= 4:\n",
        "  for i in range(seq_splited_xmls_count):\n",
        "    print(\"\\n\\nSplited part \", i)\n",
        "    print(seq_splited_xmls[i][:100])\n",
        "    print(\"...\")\n",
        "    print(seq_splited_xmls[i][-100:])\n",
        "else: # seq_splited_xmls_count > 4\n",
        "  for i in range(2):\n",
        "    print(\"\\n\\nSplited part \", i)\n",
        "    print(seq_splited_xmls[i][:100])\n",
        "    print(\"...\")\n",
        "    print(seq_splited_xmls[i][-100:])\n",
        "  for i in range(2):\n",
        "    print(\"\\n\\nSplited part \", seq_splited_xmls_count - 1 + i)\n",
        "    print(seq_splited_xmls[seq_splited_xmls_count - 2 + i][:100])\n",
        "    print(\"...\")\n",
        "    print(seq_splited_xmls[seq_splited_xmls_count - 2 + i][-100:])"
      ]
    },
    {
      "cell_type": "markdown",
      "metadata": {
        "id": "Bgup4pBkaWiv"
      },
      "source": [
        "# Extract title, abstract, claims, etc from splited XMLs\n",
        "* Make Document formats with the extracted texts\n",
        "* USE only the PATENT application xmls, NOT use the SEQUENCE xmls."
      ]
    },
    {
      "cell_type": "code",
      "execution_count": null,
      "metadata": {
        "id": "MW9-TAWOwZvZ"
      },
      "outputs": [],
      "source": [
        "# define a function to extract infos from each splited XML files\n",
        "# infos such as application, publication, title, abstract, claims\n",
        "\n",
        "import xml.etree.ElementTree as ET\n",
        "\n",
        "def extract_info_from_one_xml(input_xml):\n",
        "  try:\n",
        "    root = ET.fromstring(input_xml.lstrip('\\n'))\n",
        "    # The file must start with '<?xml version=\"1.0\" encoding=\"UTF-8\"?>'.\n",
        "    # An error occurs if page_content starts with '\\n'.\n",
        "    # Therefore, delete the first newline character ('\\n').\n",
        "\n",
        "    # Continue processing the parsed XML as needed\n",
        "  except ET.ParseError as e:\n",
        "    # Handle the XML parsing error\n",
        "    print(\"XML Parsing Error:\", e)\n",
        "    # Optionally, log the error or take corrective actions\n",
        "\n",
        "  # Extract <doc-number> from <publication-reference>\n",
        "  publication_reference = root.find(\".//publication-reference\")\n",
        "  doc_number_publication = publication_reference.find(\".//doc-number\").text\n",
        "  doc_date_publication = publication_reference.find(\".//date\").text\n",
        "\n",
        "  # Extract <doc-number> from <application-reference>\n",
        "  application_reference = root.find(\".//application-reference\")\n",
        "  doc_number_application = application_reference.find(\".//doc-number\").text\n",
        "  doc_date_application = application_reference.find(\".//date\").text\n",
        "\n",
        "  # Extract <invention-title>\n",
        "  invention_title = root.find(\".//invention-title\").text\n",
        "\n",
        "  # Extract <abstract>\n",
        "  abstract_element = root.find(\".//abstract\")\n",
        "  abstract = ET.tostring(abstract_element, encoding=\"utf-8\", method=\"text\").decode(\"utf-8\") if abstract_element is not None else \"\"\n",
        "\n",
        "  # Extract <claims>\n",
        "  # Document's page_content's type of Chroma DB is str\n",
        "  claims = \"\"\n",
        "  xml_claims = root.find('claims')\n",
        "  for claim in xml_claims.findall('claim'):\n",
        "      claim_text = ''.join(claim.find('claim-text').itertext())\n",
        "      claim_text = claim_text.strip('\\n')\n",
        "      claims += claim_text\n",
        "\n",
        "  return doc_number_application, doc_date_application, \\\n",
        "         doc_number_publication, doc_date_publication, \\\n",
        "         invention_title, abstract, claims"
      ]
    },
    {
      "cell_type": "markdown",
      "metadata": {
        "id": "VrmtqAzoShVU"
      },
      "source": [
        "### Make a special Document format to use langchain's Chroma interface\n",
        "* To create a Chroma Database through the langchain's function \"Chroma.from_documents\", we need a special document format.\n",
        "* The Document is composed of page_content and metadata: Document(page_content='Combination Digging Device and Head Rest', metadata={'application_number': '16684704', 'application_date': '20191115'})"
      ]
    },
    {
      "cell_type": "code",
      "execution_count": null,
      "metadata": {
        "id": "DkV_pFTB0jGW"
      },
      "outputs": [],
      "source": [
        "# Make langchain Documents with extracted patent title, abstract, pub_num, app_num\n",
        "# Make three different Documents with title, abstract, and claims\n",
        "# Target format is a list like this:\n",
        "# [Document(page_content='Combination Digging Device and Head Rest', metadata={'application_number': '16684704', 'application_date': '20191115'}),\n",
        "#  Document(page_content='WEED REMOVER', metadata={'application_number': '16922605', 'application_date': '20200707'}), ...]\n",
        "\n",
        "from langchain.schema import document\n",
        "\n",
        "# Create a title documents with patent titles\n",
        "title_documents = []\n",
        "abstract_documents = []\n",
        "claims_documents = []\n",
        "patent_documents = []\n",
        "\n",
        "# store SOME XMLs in the Document for faster execution of this pilot program\n",
        "# The splited XMLs are stored in pat_splited_xmls\n",
        "for i, pat_splited_xml in enumerate(pat_splited_xmls):\n",
        "  if i > 1000:\n",
        "    break\n",
        "  app_num, app_date, pub_num, pub_date, title, abstract, claims = extract_info_from_one_xml(pat_splited_xml)\n",
        "\n",
        "  new_title_document = document.Document(page_content=title, metadata={'application_number': app_num, 'application_date': app_date})\n",
        "  title_documents.append(new_title_document)\n",
        "  new_abstract_document = document.Document(page_content=abstract, metadata={'application_number': app_num, 'application_date': app_date})\n",
        "  abstract_documents.append(new_abstract_document)\n",
        "  new_claims_document = document.Document(page_content=claims, metadata={'application_number': app_num, 'application_date': app_date})\n",
        "  claims_documents.append(new_claims_document)\n",
        "\n",
        "  new_patent_document = document.Document(page_content=pub_date, metadata={'application_number': app_num, 'application_date': app_date, 'title': title, 'abstract': abstract, 'claims': claims})\n",
        "  patent_documents.append(new_patent_document)\n"
      ]
    },
    {
      "cell_type": "markdown",
      "metadata": {
        "id": "VxIPvkC5YtN8"
      },
      "source": [
        "### Check the created title Document, abstract Document, and claims Document"
      ]
    },
    {
      "cell_type": "code",
      "execution_count": null,
      "metadata": {
        "id": "vmB4C0RJyqha"
      },
      "outputs": [],
      "source": [
        "print(\"titles: \", len(title_documents))\n",
        "print(\"abstract: \", len(abstract_documents))\n",
        "print(\"claims: \", len(claims_documents))"
      ]
    },
    {
      "cell_type": "code",
      "execution_count": null,
      "metadata": {
        "id": "u_c33Mhtp42r"
      },
      "outputs": [],
      "source": [
        "print(\"patents: \", len(patent_documents))"
      ]
    },
    {
      "cell_type": "code",
      "execution_count": null,
      "metadata": {
        "id": "K_UWGF6ztmgj"
      },
      "outputs": [],
      "source": [
        "title_documents"
      ]
    },
    {
      "cell_type": "code",
      "execution_count": null,
      "metadata": {
        "id": "m4eFIKl5yd62"
      },
      "outputs": [],
      "source": [
        "abstract_documents"
      ]
    },
    {
      "cell_type": "code",
      "execution_count": null,
      "metadata": {
        "id": "ylTipTME5oDr"
      },
      "outputs": [],
      "source": [
        "patent_documents"
      ]
    },
    {
      "cell_type": "markdown",
      "metadata": {
        "id": "dbOXALaIhKjU"
      },
      "source": [
        "# Load Text Embedding Model\n",
        "* Text Embedding model converts a text into a vector, a set of numbers.\n",
        "* The vector has the characteristics of the text.\n",
        "* Below, We will use two (free) text embedding models\n",
        "  - [all-MiniLM-L6-v2](https://huggingface.co/sentence-transformers/all-MiniLM-L6-v2) for embedding dimension 384, whose ranking is 61 in the [MTEB leaderboard](https://huggingface.co/spaces/mteb/leaderboard) (as of Feb. 2, 2024)\n",
        "  - [llmrails/ember-v1](https://huggingface.co/llmrails/ember-v1) for embedding dimension 1024, whose ranking is 12 in the [MTEB leaderboard](https://huggingface.co/spaces/mteb/leaderboard) (as of Feb. 2, 2024)\n",
        "* By default, we use the AI model for embedding dimension 384. But you can use 1024 dimension model for a better performance.\n",
        "* You can also use other embedding AI models such as OpenAI's model which is not a free model. You can find more information [here](https://python.langchain.com/docs/integrations/vectorstores/chroma).\n",
        "* More information can be found in langchain's [chroma](https://python.langchain.com/docs/integrations/vectorstores/chroma) or [sentence_transformers](https://python.langchain.com/docs/integrations/text_embedding/sentence_transformers) guide."
      ]
    },
    {
      "cell_type": "code",
      "execution_count": null,
      "metadata": {
        "id": "YvaURblfdLaO"
      },
      "outputs": [],
      "source": [
        "# load text embedding models\n",
        "from langchain_community.embeddings import HuggingFaceEmbeddings\n",
        "\n",
        "#embedding_function = HuggingFaceEmbeddings(model_name=\"all-MiniLM-L6-v2\") # embedding dimension 384\n",
        "embedding_function = HuggingFaceEmbeddings(model_name=\"llmrails/ember-v1\") # embedding dimension 1024"
      ]
    },
    {
      "cell_type": "markdown",
      "metadata": {
        "id": "i5l9gpVucwxt"
      },
      "source": [
        "# Checking the embedding value of a sample text"
      ]
    },
    {
      "cell_type": "code",
      "execution_count": null,
      "metadata": {
        "id": "ylnKP7E3o69b"
      },
      "outputs": [],
      "source": [
        "# Let's check the embedding value for the first patent application's abstract\n",
        "\n",
        "import textwrap\n",
        "\n",
        "# Calculate the embedding value\n",
        "embeddings = embedding_function.embed_query(abstract_documents[0].page_content)\n",
        "\n",
        "# print out the embedding values\n",
        "numbers_in_a_row = 8\n",
        "for embedding in embeddings:\n",
        "  for i in range(numbers_in_a_row):\n",
        "    print(embedding, end=\", \")\n",
        "  print()\n",
        "\n",
        "print(\"\\n Above is the embedding of the first patent application's abstract below:\")\n",
        "print('\\n'.join(textwrap.wrap(abstract_documents[0].page_content, 150)))\n",
        "\n",
        "print(\"\\nDimension of the embedding is \", len(embeddings))"
      ]
    },
    {
      "cell_type": "markdown",
      "metadata": {
        "id": "Q6nFunfgmBBC"
      },
      "source": [
        "# Create Chroma Vector DB and store text embedding vectors in the DB\n",
        "* You can find more information about how to create Chroma database [here](https://python.langchain.com/docs/integrations/vectorstores/chroma).\n",
        "* When you create the same collection again, at first you need to delete the existing one by:\n",
        "  - title_db.delete_collection()\n",
        "  - abstract_db.delete_collection()\n",
        "  - claims_db.delete_collection()\n",
        "* We can choose \"l2\", \"ip, \"or \"cosine\". The default is \"l2\" which is the squared L2 norm. 'cosine' is cosine similarity. 'ip' is Inner Product. More general information can be found [here](https://docs.trychroma.com/usage-guide) and \"from_documents\" options [here](https://api.python.langchain.com/en/latest/vectorstores/langchain_community.vectorstores.chroma.Chroma.html).\n",
        " - We can use this option for \"Chroma.from_documents\" like this: Chroma.from_documents(...,collection_metadata={\"hnsw:space\": \"cosine\"})"
      ]
    },
    {
      "cell_type": "code",
      "execution_count": null,
      "metadata": {
        "id": "3V-PjAlfYtBK"
      },
      "outputs": [],
      "source": [
        "from langchain_chroma import Chroma"
      ]
    },
    {
      "cell_type": "markdown",
      "metadata": {
        "id": "Bwf2Qgacm4qE"
      },
      "source": [
        "### Make three different databases with title, abstract and claims\n",
        "* The database will be stored in memory."
      ]
    },
    {
      "cell_type": "code",
      "execution_count": null,
      "metadata": {
        "id": "LOYi1ROvzMwy"
      },
      "outputs": [],
      "source": [
        "# Create TITLE Chroma DB\n",
        "title_db = Chroma.from_documents(\n",
        "                           collection_name = \"US_patent_application_TITLE_DB\",\n",
        "                           documents = title_documents,\n",
        "                           embedding = embedding_function,\n",
        "                          )"
      ]
    },
    {
      "cell_type": "code",
      "execution_count": null,
      "metadata": {
        "id": "KewM10y0y1ag"
      },
      "outputs": [],
      "source": [
        "# Create ABSTRACT Chroma DB\n",
        "abstract_db = Chroma.from_documents(\n",
        "                           collection_name = \"US_patent_application_ABSTRACT_DB\",\n",
        "                           documents = abstract_documents,\n",
        "                           embedding = embedding_function,\n",
        "                          )"
      ]
    },
    {
      "cell_type": "code",
      "execution_count": null,
      "metadata": {
        "id": "wLYj-g2nU_Jx"
      },
      "outputs": [],
      "source": [
        "# Create CLAIMS Chroma DB\n",
        "claims_db = Chroma.from_documents(\n",
        "                           collection_name = \"US_patent_application_CLAIMS_DB\",\n",
        "                           documents = claims_documents,\n",
        "                           embedding = embedding_function,\n",
        "                          )"
      ]
    },
    {
      "cell_type": "code",
      "execution_count": null,
      "metadata": {
        "id": "4766fMq-97ZV"
      },
      "outputs": [],
      "source": [
        "##upd1\n",
        "patent_db = Chroma.from_documents(\n",
        "                            collection_name = \"US_patent_application_PATENTS_DB\",\n",
        "                            documents = patent_documents,\n",
        "                            embedding = embedding_function,\n",
        ")"
      ]
    },
    {
      "cell_type": "markdown",
      "metadata": {
        "id": "BRRgGen1f0ka"
      },
      "source": [
        "# Test the system by querying texts to find similar patents\n",
        "* basic query: title_db.similarity_search_with_score(query, 10)\n",
        " - It will give 10 similar patent documents.\n",
        "* query with similarity score: title_db.similarity_search_with_score(query, 10)\n",
        " - It will give 10 results with similarity scores.\n",
        "* You can find more information about the query function [here](https://api.python.langchain.com/en/latest/vectorstores/langchain_community.vectorstores.xata.XataVectorStore.html)."
      ]
    },
    {
      "cell_type": "code",
      "execution_count": null,
      "metadata": {
        "id": "lff7Aqwqzswl"
      },
      "outputs": [],
      "source": [
        "# query to TITLE DB with score\n",
        "query = \"plant cutting machine\"\n",
        "results = title_db.similarity_search_with_score(query, 10)\n",
        "\n",
        "results"
      ]
    },
    {
      "cell_type": "code",
      "execution_count": null,
      "metadata": {
        "id": "-41D3acHzv3s"
      },
      "outputs": [],
      "source": [
        "# query to ABSTRACT DB with score\n",
        "query = \"lawn trimming tool\"\n",
        "results = abstract_db.similarity_search_with_score(query, 10)\n",
        "\n",
        "results"
      ]
    },
    {
      "cell_type": "code",
      "execution_count": null,
      "metadata": {
        "id": "uEssSGWdVQ5J"
      },
      "outputs": [],
      "source": [
        "# query to CLAIMS DB with score\n",
        "query = \"lawn trimming tool\"\n",
        "results = claims_db.similarity_search_with_score(query, 10)\n",
        "\n",
        "results"
      ]
    },
    {
      "cell_type": "code",
      "execution_count": null,
      "metadata": {
        "colab": {
          "base_uri": "https://localhost:8080/"
        },
        "id": "r85mjmAeCiV2",
        "outputId": "ca0279d9-bcd7-4c88-d7d0-b5edcba766dc"
      },
      "outputs": [
        {
          "data": {
            "text/plain": [
              "[(Document(page_content='20210121', metadata={'abstract': '\\nAn orthopedic device for supporting a lower back of a user includes a mechanical energy store, a pelvic element, an upper body element with a first force transmission element and an upper leg element with a second force transmission element. The upper leg element is arranged on the pelvic element such that it can be swivelled about a first swivel axis, the upper body element is movably arranged relative to the pelvic element, the first force transmission element can be engaged and disengaged with the second force transmission element by moving the upper body element relative to the pelvic element, and the mechanical energy store can be charged and discharged by swivelling the upper leg element relative to the upper body element when the first force transmission element is engaged with the second force transmission element.\\n\\n', 'application_date': '20200717', 'application_number': '16947088', 'claims': '1. An orthopedic device for supporting a lower back of a user, the device comprising:\\na mechanical energy store;\\na pelvic element;\\nan upper body element with a first force transmission element; and\\nan upper leg element with a second force transmission element;\\nwherein:\\nthe upper leg element is arranged on the pelvic element such that it the upper leg element can be swiveled about a first swivel axis,\\nthe upper body element is movably arranged relative to the pelvic element,\\nthe first force transmission element can be engaged and disengaged with the second force transmission element by moving the upper body element relative to the pelvic element, and\\nthe mechanical energy store can be charged and discharged by swiveling the upper leg element relative to the upper body element when the first force transmission element is engaged with the second force transmission element.2. The orthopedic device according to claim 1, wherein the first force transmission element comprises a gearwheel that is eccentrically arranged on the pelvic element such that the first force transmission element can be swiveled about a second swivel axis.3. The orthopedic device according to claim 2, wherein the upper body element is connected to the first force transmission element such that the first force transmission element is swiveled about the second swivel axis when the upper body element is moved relative to the pelvic element.4. The orthopedic device according to claim 2, wherein the upper body element and the first force transmission element feature connection elements that correspond with one another, so that the upper body element can be connected to the first force transmission element in several positions.5. The orthopedic device according to claim 1, further comprising a displacement device that is configured to move at least one of the first force transmission element and the second force transmission element towards one another when the upper body element assumes an angle in relation to the pelvic element that is smaller than a pre-determined threshold angle.6. The orthopedic device according to claim 5, wherein the displacement device is configured to move at least one of the first force transmission element and/or the second force transmission element away from one another when the upper body element assumes an angle in relation to the pelvic element that is greater than the pre-determined threshold angle.7. The orthopedic device according to claim 5, wherein at least two magnets are arranged on the pelvic element or the upper leg element and at least one magnet is arranged on the respective other element in such a way that they exert a force on one another, the direction of which changes when, during a movement of the upper body element relative to the pelvic element, the angle passes the pre-determined threshold angle.8. The orthopedic device according claim 1, wherein the device can be brought into an active state, in which the first force transmission element can be engaged and disengaged with the second force transmission element by moving the upper body element relative to the pelvic element, and into a passive state.9. The orthopedic device according to claim 8, further comprising at least one activation element, the activation of which allows for the device to be brought from the active state into the passive state, or vice-versa.10. The orthopedic device according to claim 1, wherein the mechanical energy store has at least one spring.11. The orthopedic device according to claim 10, wherein the at least one spring includes at least one spiral spring.12. An orthopedic device to support a lower back of a user, the device comprising:\\na mechanical energy store;\\na pelvic element configured to contact a pelvis of the user;\\nan upper body element with a first force transmission element, the upper body element configured to be mounted to an upper body of the user;\\nan upper leg element with a second force transmission element, the upper leg element configured to be mounted to an upper leg of the user;\\nwherein the upper leg element is arranged on the pelvic element such that the upper leg element is movable about a first axis, the upper body element is adjustable relative to the pelvic element to engage and disengage the first force transmission element with the second force transmission element, and the mechanical energy store is charged and discharged by moving the upper leg element relative to the upper body element when the first force transmission element is engaged with the second force transmission element.13. The orthopedic device according to claim 12, wherein the first force transmission element comprises a gearwheel that is eccentrically arranged on the pelvic element such that it can be moved about a second swivel axis.14. The orthopedic device according to claim 13, wherein the upper body element is connected to the first force transmission element such that the first force transmission element is moved about the second swivel axis when the upper body element is moved relative to the pelvic element.15. The orthopedic device according to claim 13, wherein the upper body element and the first force transmission element include connection elements that correspond with one another, so that the upper body element can be connected to the first force transmission element in several positions.16. The orthopedic device according to claim 12, further comprising a displacement device that is configured to move at least one of the first force transmission element and the second force transmission element towards one another when the upper body element assumes an angle in relation to the pelvic element that is smaller than a pre-determined threshold angle.17. The orthopedic device according to claim 16, wherein the displacement device is configured to move at least one of the first force transmission element and the second force transmission element away from one another when the upper body element assumes an angle in relation to the pelvic element that is greater than the pre-determined threshold angle.18. The orthopedic device according to claim 16, further comprising at least two magnets arranged on the pelvic element or the upper leg element and at least one magnet is arranged on the respective other element in such a way that the magnets exert a force on one another, the direction of which changes when, during a movement of the upper body element relative to the pelvic element, the angle passes the pre-determined threshold angle.19. The orthopedic device according to claim 12, wherein the device can be brought into an active state, in which the first force transmission element can be engaged and disengaged with the second force transmission element by moving the upper body element relative to the pelvic element, and into a passive state.20. The orthopedic device according to claim 19, further comprising at least one activation element, the activation of which allows for the device to be brought from the active state into the passive state, or vice-versa.', 'title': 'ORTHOPEDIC DEVICE'}),\n",
              "  406.38397216796875),\n",
              " (Document(page_content='20210121', metadata={'abstract': '\\nA fusion protein-siRNA complex according to the present disclosure binds specifically to cancer cells, is taken up effectively by the cells, and exhibits anticancer activity as it is degraded by lysosomes. The fusion protein-siRNA complex provides maximized anticancer activity so that the cancer cells can be removed by autoimmunity, by inhibiting the immunity of the cancer cells and enhancing phagocytosis by macrophages.\\n\\n', 'application_date': '20190917', 'application_number': '16573351', 'claims': '1. A pharmaceutical composition comprising a fusion protein-siRNA complex consisting of an immunoregulatory fusion protein (A); and a siRNA (B) as an active ingredient,\\nwherein the immunoregulatory fusion protein (A) is one in which SIPRα protein is bound to a linker peptide cleaved by a lysosomal degradative enzyme, and the siRNA is CD47 siRNA.2. The pharmaceutical composition according to claim 1,\\nwherein the SIPRα protein has an amino acid sequence represented by any one of SEQ ID NOS 3, 5, 7, 9 and 11, and the linker peptide is represented by SEQ ID NO 13.3. The pharmaceutical composition according to claim 1,\\nwherein the immunoregulatory fusion protein (A) is represented by SEQ ID NO 1.4. The pharmaceutical composition according to claim 1,\\nwherein the siRNA is represented by SEQ ID NO 17 or 18.5. The pharmaceutical composition according to claim 1,\\nwherein the fusion protein-siRNA complex has an average molecular weight of 20-60 kDa.6. The pharmaceutical composition according to claim 1,\\nwherein the pharmaceutical composition is for prevention or treatment of cancer, and the cancer is one or more selected from a group consisting of brain tumor, spinal cord tumor, retinoblastoma, oral cancer, nasal cavity cancer, paranasal sinus cancer, pharyngeal cancer, laryngeal cancer, neck cancer, head and neck cancer, melanoma, skin cancer, breast cancer, thyroid cancer, malignant adrenal tumor, endocrine cancer, lung cancer, pleural tumor, respiratory tract cancer, esophageal cancer, stomach cancer, small intestine cancer, colon cancer, anal cancer, liver cancer, biliary tract cancer, pancreatic cancer, kidney cancer, bladder cancer, prostate cancer, testicular cancer, penile cancer, cervical cancer, endometrial cancer, choriocarcinoma, ovarian cancer, blood cancer including acute/chronic leukemia, malignant lymphoma and multiple myeloma, bone tumor, soft tissue tumor, childhood leukemia and childhood cancer.7. A method for treating cancer in a human or a non-human animal, comprising administering to a subject in need of such treatment a therapeutically effective amount of a fusion protein-siRNA complex of claim 1.', 'title': 'IMMUNOREGULATORY PROTEIN-siRNA COMPLEX HAVING ANTICANCER ACTIVITY'}),\n",
              "  406.38397216796875),\n",
              " (Document(page_content='20210121', metadata={'abstract': '\\nProvided are an ultraviolet irradiation device, an ultraviolet irradiation method, an illumination device, and an ultraviolet irradiation system capable of efficiently and safely disinfecting an area to be disinfected and capable of preventing reduction in the operating rate of (equipment, etc., in) the area to be disinfected by maintaining the disinfected state. The ultraviolet irradiation device includes an ultraviolet irradiation unit capable of outputting ultraviolet having a predetermined dominant wavelength, and a drive control unit. The drive control unit performs time control of ultraviolet irradiation and non-irradiation by the ultraviolet irradiation unit on the basis of time necessary to disinfect the area S to be disinfected before or during operation and bacterial growth time after the disinfection.\\n\\n', 'application_date': '20180329', 'application_number': '17042850', 'claims': '1. An ultraviolet irradiation device configured to perform disinfection by irradiating an area to be disinfected with ultraviolet, comprising:\\nan ultraviolet irradiation unit capable of outputting ultraviolet having a predetermined dominant wavelength; and\\na drive control unit, wherein\\nthe drive control unit performs time control of ultraviolet irradiation and non-irradiation by the ultraviolet irradiation unit on a basis of time necessary to disinfect the area to be disinfected before or during operation and bacterial growth time after the disinfection.2. The ultraviolet irradiation device according to claim 1, wherein\\nthe drive control unit controls the ultraviolet irradiation unit so that ultraviolet is applied in a first disinfection treatment of the area to be disinfected during first time and after that, a non-irradiation state is maintained during second time,\\nthe first time is an amount of time during which the first disinfection treatment can be performed,\\nthe second time is an amount of time during which growth of a predetermined kind of bacterial after passage of the first time can be suppressed, and\\nthe second time is longer than the first time.3. The ultraviolet irradiation device according to claim 2, wherein\\nthe drive control unit controls the ultraviolet irradiation unit so that ultraviolet is applied again after passage of the second time and non-irradiation is performed again at least once,\\nan amount of time during which ultraviolet is applied again is third time,\\nan amount of time during which non-irradiation is performed again is fourth time,\\nthe third time is an amount of time during which increased bacteria after passage of the second time can be disinfected,\\nthe fourth time is an amount of time during which bacterial growth after the passage of the third time can be suppressed, and\\nthe fourth time is longer than the third time.4. The ultraviolet irradiation device according to claim 3, wherein the third time is shorter than the first time.5. The ultraviolet irradiation device according to claim 1, comprising a detection unit configured to detect presence or absence of a person at least in an ultraviolet irradiation region in the area to be disinfected, and wherein\\nwhen the detection unit detects the presence of a person, the drive control unit turns the ultraviolet irradiation unit into a non-irradiation state.6. The ultraviolet irradiation device according to claim 1, wherein the ultraviolet irradiation unit outputs ultraviolet having a wavelength in a UVC region.7. The ultraviolet irradiation device according to claim 1, comprising an inhibition unit configured to inhibit generation of ozone due to irradiation of air with ultraviolet.8. The ultraviolet irradiation device according to claim 1, comprising a plurality of the ultraviolet irradiation units.9. The ultraviolet irradiation device according to claim 1, wherein the area to be disinfected is a working space into which a worker can enter or from which the worker can leave and which is expected to keep a predetermined level of cleanliness.10. An ultraviolet irradiation method for performing disinfection by irradiating an area to be disinfected with ultraviolet, comprising:\\nperforming time control of irradiation and non-irradiation with ultraviolet having a predetermined dominant wavelength on a basis of time necessary to disinfect the area to be disinfected during operation and bacterial growth time after the disinfection.11. The ultraviolet irradiation method according to claim 10, comprising the steps of:\\napplying ultraviolet in a first disinfection treatment of the area to be disinfected during a first time; and\\nmaintaining a non-irradiation state of ultraviolet during a second time after passage of the first time, and wherein\\nthe first time is an amount of time during which the first disinfection treatment can be performed,\\nthe second time is an amount of time during which growth of a predetermined kind of bacterial after passage of the first time can be suppressed, and\\nthe second time is longer than the first time.12. The ultraviolet irradiation method according to claim 11, comprising the steps of:\\napplying ultraviolet again during a third time after passage of the second time; and\\nmaintaining non-irradiation again during a fourth time after passage of the third time, and wherein\\nthe third time is an amount of time during which increased bacteria after passage of the second time can be disinfected,\\nthe fourth time is an amount of time during which bacterial growth after the passage of the third time can be suppressed, and\\nthe fourth time is longer than the third time.13. The ultraviolet irradiation method according to claim 12, wherein the third time is shorter than the first time.14. The ultraviolet irradiation method according to claim 10, comprising detecting presence or absence of a person at least in an ultraviolet irradiation region in the area to be disinfected; and when the presence of a person is detected, turning the ultraviolet into a non-irradiation state.15. The ultraviolet irradiation method according to claim 10, wherein the ultraviolet has a wavelength in a UVC region.16. The ultraviolet irradiation method according to claim 10, wherein ultraviolet of wavelengths that generate ozone out of the ultraviolet is removed for irradiation of air.17. An illumination device comprising:\\nthe ultraviolet irradiation device according to claim 1; and\\nan illumination light source.18. The illumination device according to claim 17, wherein an irradiation direction of light of the illumination light source and at least some of irradiation directions of ultraviolet of the ultraviolet irradiation device are set to same directions.19. The illumination device according to claim 18, comprising an adjustment unit capable of changing the irradiation direction of light and the irradiation directions of ultraviolet.20. The illumination device according to claim 17, wherein the illumination light source is any of a halogen lamp and an LED and has a function of a shadowless lamp.21. An ultraviolet illumination system comprising:\\nthe ultraviolet irradiation device according to claim 1; and\\na management unit configured to manage entry and exit of a person to and from the area to be disinfected, wherein\\nthe drive control unit performs control of the ultraviolet irradiation device in conjunction with entry and exit management made by the management unit.', 'title': 'ULTRAVIOLET IRRADIATION DEVICE, ULTRAVIOLET IRRADIATION METHOD, ILLUMINATION DEVICE, AND ULTRAVIOLET IRRADIATION SYSTEM'}),\n",
              "  406.38397216796875),\n",
              " (Document(page_content='20210121', metadata={'abstract': '\\nA system and method for ultrasound treatment is presented. The system and method alternatingly provide microbubbles in a target region containing a biomineralization, then insonate the microbubbles using an external ultrasound source. The microbubbles cavitate in the target region, destructively affecting the biomineralization and potentially breaking it or reducing its mass over time as a result of the cavitation action. Spatial orientation or alignment of the external ultrasound source may be achieved for best results using acoustic signatures and spectral representations of the same.\\n\\n', 'application_date': '20200716', 'application_number': '16931160', 'claims': '1. A method comprising:\\ndetermining a target region;\\nalternatingly, in a macrocycle of bubble placement and insonation stages, introducing a plurality of microbubbles into said target region during the bubble placement stage, and insonating the plurality of microbubbles with an external ultrasound source during the insonation stage;\\nwherein the ultrasound source emits ultrasonic energy at selected times during the insonation stage and the ultrasound source does not emit ultrasonic energy during the bubble placement stage.2. The method of claim 1, wherein the ultrasound source is programmably activated during the insonation stage in a sequence of microcycle ON-times when the ultrasound source is activated and microcycle OFF-times when the ultrasound source is deactivated.3. The method of claim 1, further comprising detecting an acoustic emission of said microbubbles undergoing inertial cavitation so as to derive a quantifiable inertial cavitation (IC) signature.4. The method of claim 3, further comprising spatially directing said external ultrasound source based on said derived IC signature.5. The method of claim 1, wherein insonating the plurality of microbubbles with an external ultrasound source comprises delivering an ultrasound energy beam having a fundamental frequency and having an amplitude sufficient to cause inertial cavitation of said microbubbles.6. The method of claim 1, wherein the microbubbles comprise engineered microbubbles having a chemical tag.7. The method of claim 1, wherein said microbubbles comprise stone-surface accumulating (SSA) microbubbles that tend to aggregate at or near said bio mineralization.8. The method of claim 1, wherein determining the target region comprises determining a target region containing a biomineralization.9. A method for controllably causing microbubble cavitation, comprising:\\nalternatingly, in a macrocycle of bubble placement and insonation stages, introducing a plurality of microbubbles into said target region during the bubble placement stage, and insonating the plurality of microbubbles with an external ultrasound source during the insonation stage so as to cause inertial cavitation of more than one of the plurality of said microbubbles within said target region;\\ndetecting an acoustic emission of said microbubbles undergoing inertial cavitation so as to derive a quantifiable inertial cavitation (IC) signature; and\\nspatially directing said external ultrasound source based on said derived IC signature.10. The method of claim 9, further comprising defining a microcycle of ON-times and OFF-times, within said macrocycle insonation stage, whereby the ultrasound source emits ultrasonic energy during the microcycle ON-times and does not emit ultrasonic energy during the microcycle OFF-times.11. The method of claim 10, wherein said ON-times and OFF-times define a duty cycle of said ultrasound source.12. The method of claim 11, wherein said duty cycle is kept below ten percent (10%) during said insonation stage of the macrocycle.13. The method of claim 9, wherein the bubble cavitation is further controlled to cause bubble-mediated comminution of a biomineralization within said target region.14. The method of claim 9, wherein said microbubbles comprise stone-surface accumulating (SSA) microbubbles that tend to aggregate at or near said bio mineralization.15. A system for applying ultrasound energy, comprising:\\nan ultrasound source configured and arranged to non-invasively deliver ultrasound energy to a target region;\\na microbubble injector configured and arranged to place a plurality of microbubbles into a target region during a bubble placement time;\\na controller coupled to said ultrasound source, configured and arranged to alternatingly cause insonation of the target region during an insonation time and to not cause insonation of the target region during said bubble placement time;\\nsaid controller further configured and arranged, during the insonation time, to alternately activate said ultrasound source during an ON-time of said insonation time and to deactivate said ultrasound source during an OFF-time of said insonation time.16. The system of claim 15, further comprising an acoustic sensor that measures an acoustic output of said microbubbles during inertial cavitation.17. The system of claim 15, said controller further configured and arranged to processes said measured acoustic output of said acoustic sensor and to determine a spectral representation of said acoustic output of the microbubbles.18. The system of claim 17, wherein said controller is further configured and arranged to derive a quantifiable inertial cavitation (IC) signature by integration of said spectral representation within a range of frequencies.19. The system of claim 18, said controller further configured and arranged to identify and localize the biomineralization and to discriminate said biomineralization from surrounding objects based on the IC signature at or proximal to said biomineralization.20. The system of claim 16, said controller configured and arranged to process an output of said acoustic sensor to spatially orient said external ultrasound source based on said derived IC signature.21. The system of claim 15, wherein said microbubbles comprise stone-surface accumulating (SSA) microbubbles that tend to aggregate at or near said biomineralization.22. The system of claim 15, said ultrasound source and ultrasound energy having a fundamental frequency below 1 MHz.23. The system of claim 22, said ultrasound source and ultrasound energy having a fundamental frequency below 500 kHz.24. A method for non-invasive targeting of biomineralizations, comprising introducing a plurality of chemically-tagged microbubbles into a target region containing a biomineralization so as to accumulate the microbubbles on a surface of said biomineralization;\\ntargeting the microbubbles with ultrasound energy to cause inertial cavitation of the microbubbles; and\\nmonitoring an acoustic signature of said microbubbles during their cavitation.', 'title': 'SYSTEM AND METHOD FOR COMMINUTION OF BIOMINERALIZATIONS USING MICROBUBBLES'}),\n",
              "  406.38397216796875),\n",
              " (Document(page_content='20210121', metadata={'abstract': \"\\nIn a garment a breathable effect in breathable regions can be obtained despite a lack of direct contact with the skin of a wearer. The textile layer has at least one breathable region at a distance from the wearer's skin when the garment is worn, in which breathable region a plurality of thread tentacles, each designed in a single piece as an open loop, are brought out of individual second threads into the textile layer in such a way that each thread tentacle has two tentacle sections pointing away from the inner side of the textile layer and one central section extending along on the outer side. The tentacle sections of the thread tentacles can, when the garment is worn, be brought into direct contact with the surface of the wearer's skin, while the inner side of the textile layer remains at a distance from the skin surface in the region of the breathable region.\\n\\n\", 'application_date': '20181218', 'application_number': '16955338', 'claims': '1-20. (canceled)21. A garment comprising a textile layer, in particular made of a knit or a woven made from at least one thread, with an inner side facing a wearer when the garment is worn and an outer side facing away from the skin, wherein the textile layer has at least one breathable region spaced apart from the skin of the wearer when the garment is warn, in which a plurality of thread tentacles made of individual second yarn threads, each designed as an open loop in one piece with three sections, is incorporated into the textile layer in such a way that each thread tentacle has two tentacle sections pointing away from the inner side of the textile layer and a central section extending along the outer side facing away from the inner side, wherein the tentacle sections of the thread tentacles directly contact the skin surface of the wearer when the garment is worn, while the inner side of the textile layer remains spaced apart from the skin surface in the region of the breathable region when the garment is worn, wherein a fur-like configuration of the plurality of the thread tentacles, which project in the breathable region from the inner side, is achieved by a density of greater than or equal to four thread tentacles per square centimeter.22. The garment according to claim 21, wherein the second yarn threads of the plurality of thread tentacles is produced from a hydrophilic yarn, in particular from polyamide, so that a sufficient moisture dissipation or capillary effect is achieved.23. The garment according to claim 21, wherein the yarn of the second yarn threads of the plurality of thread tentacles is a hollow fiber thread.24. The garment according to claim 21, wherein the length of the two tentacle sections projecting away from the inner side is between 1 mm and 70 mm, in particular between 2 mm and 10 mm.25. The garment according to claim 21, wherein the lengths of the two adjacent tentacles sections of the thread tentacle on the inner side of the textile layer are at least approximately identical.26. The garment according to claim 21, wherein the thread thickness of the second yarn thread of the thread tentacles is selected to be between 0.5 and 10 dtex.27. The garment according to claim 21, wherein the density of the arrangement of the plurality of the thread tentacles is selected to be greater than or equal to ten thread tentacles per square centimeter, wherein in each case twenty tentacle sections or more project from the inner side.28. The garment according to claim 21, wherein the textile layer is a knit, into which the thread tentacles are knitted directly as open loops made of yarn threads.29. The garment according to claim 28, wherein the knit is a circular knit manufactured on a circular knitting machine.30. The garment according to claim 28, wherein adjacent tentacle sections of each thread tentacle have at least approximately the same length.31. The garment according to claim 28, wherein the material of the first yarn thread of the knit is less hydrophilic than the material of the second yarn threads of the thread tentacles.32. The garment according to claim 21, wherein the at least one breathable region or the plurality of thread tentacles is/are arranged in defined regions of the textile surface area, in particular in the region of the arm pits, the chest, the stomach, the lumbar vertebrae, along the spine, on the surface of the inner thighs, and/or on the surface of the outer thighs of the wearer.33. The garment according to claim 21, wherein the at least one breathable region or the plurality of thread tentacles is/are arranged covering at least 40% of the entire inner side of the textile surface area of the garment, in particular, the breathable region covers 80% to 100% of the inner side of the textile surface area or of the garment.34. A method for producing the garment according to claim 1, the method comprising:\\nproducing the textile layer as a knit on a knitting machine automatically knit from a first yarn thread according to a knitting pattern, wherein\\nduring the knitting process, a second yarn thread is knitted extending partially on the inner side and partially on the outer side of the knit, in particular in the region of the arm pits, the chest, the stomach, the lumbar vertebrae, the spine, on the surface of the inner thighs, and/or on the surface of the outer thighs, which subsequently form the breathable region projecting away from the inner side, before\\nloops of the second yarn thread on the inner side of the knit are automatically separated by means of a cutting device, whereby a plurality of the thread tentacles, designed as one piece as open loops, are formed from the second yarn threads with respectively two tentacle sections and the central section, wherein a fur-like configuration of the plurality of the thread tentacles projecting away from the inner side in the breathable region is achieved by a density of greater than or equal to four thread tentacles per square centimeter.35. The method according to claim 34, wherein the loops are separated in the center of their course in such a way that adjacent tentacle sections or each thread tentacle have at least approximately the same length.36. The method according to claim 34, wherein the length of the tentacle sections projecting away from the inner side is selected to be between 1 mm and 70 mm and the thread thickness of the thread tentacles is selected to be between 0.5 and 10 dtex.37. The method according to claim 34, wherein the thread of the plurality of the thread tentacles is a hollow fiber thread.38. The method according to claim 34, wherein the thread of the plurality of the thread tentacles comprises polyamide.39. The method according to claim 34, wherein the density of the thread tentacles is greater than 15 thread tentacles per square centimeter, whereby a fur function is formed.40. The method according to claim 34, wherein the first and the second threads are identical.', 'title': 'GARMENT HAVING AT LEAST ONE BREATHABLE REGION'}),\n",
              "  406.38397216796875),\n",
              " (Document(page_content='20210121', metadata={'abstract': '\\nSelectively providing voltage-gated sodium channel function sufficient to rescue impaired Nav1.1 function to inhibitory neurons is described. Provided voltage-gated sodium channel function sufficient to rescue impaired Nav1.1 function in inhibitory neurons can be used to treat disorders such as epilepsy, and more particularly, Dravet Syndrome. \\n\\n', 'application_date': '20190409', 'application_number': '17044232', 'claims': '1. A method of treating Dravet Syndrome in a subject in need thereof comprising intravenously administering a therapeutically effective amount of at least two adeno-associated viral (AAV) vectors wherein each viral vector comprises an expression construct comprising\\n(i) an enhancer consisting of SEQ ID NO: 3;\\n(ii) a promoter; and\\n(iii) a coding sequence that results in expression of a fragment of human SCN1A wherein the AAV vectors are associated with a capsid that crosses the blood brain barrier, and wherein the human SCN1A fragments encoded by the coding sequences are expressed selectively within inhibitory GABAergic interneurons and result in rescue of Nav1.1 channel function within inhibitory GABAergic interneurons in need thereof following the intravenous administering2. The method of claim 1, wherein the viral vectors comprise SEQ ID NO: 47 and SEQ ID NO: 48; SEQ ID NO: 49 and SEQ ID NO: 50; or SEQ ID NO: 51 and SEQ ID NO: 52.3. The method of claim 1, wherein the viral vectors comprise SEQ ID NO: 58, SEQ ID NO: 59, SEQ ID NO: 60, and SEQ ID NO: 61.4. An expression construct comprising (i) an enhancer consisting of SEQ ID NO: 3; (ii) a promoter; and (iii) a coding sequence encoding a protein that rescues voltage-gated sodium channel function in a cell or subject in need thereof.5. The expression construct of claim 4, wherein the coding sequence comprises NavSheP-D60N, NavBp, NavMs, 3×HA-NavSheP-D60N, 3×HA-NavBp, 3×HA-NavMs, His-NavMs, human SCN1A, mouse Scn1a, human SCN1A-3×HA, and/or mouse Scn1a-3×HA.6. The expression construct of claim 4, wherein the promoter comprises minBglobin or minCMV.7. The expression construct of claim 4, wherein the expression construct is within an adeno-associated viral (AAV) vector.8. The expression construct of claim 4, wherein the expression construct comprises a coding sequence for a reporter protein.9. The expression construct of claim 8, wherein the reporter protein comprises a fluorescent reporter protein.10. The expression construct of claim 4, wherein the expression construct comprises or encodes a skipping element.11. The expression construct of claim 10, wherein the skipping element comprises a 2A peptide or an internal ribosome entry site (IRES).12. The expression construct of claim 11, wherein the 2A peptide comprises T2A, P2A, E2A, and/or F2A.13. The expression construct of claim 7, wherein the construct comprises the elements of CN1367, CN1244, CN1389, CN1390, CN1180, CN1203, CN1498, CN1499, CN1500, CN2001, CN2002, CN2003, CN1504 and CN1512, CN2004 and CN2005, CN2006 and CN2007, or CN2008 and CN2009.14. The expression construct of claim 7, wherein the construct comprises SEQ ID NO: 33, SEQ ID NO: 34, SEQ ID NO: 35, SEQ ID NO: 36, SEQ ID NO: 37, SEQ ID NO: 38, SEQ ID NO: 39, SEQ ID NO: 40, SEQ ID NO: 41, SEQ ID NO: 42, SEQ ID NO: 43, SEQ ID NO: 44, SEQ ID NO: 45, SEQ ID NO: 46, SEQ ID NO: 47, SEQ ID NO: 48, SEQ ID NO: 49, SEQ ID NO: 50, SEQ ID NO: 51, and/or SEQ ID NO: 52.15. The expression construct of claim 7, wherein the construct comprises SEQ ID NO: 45 and SEQ ID NO: 46, SEQ ID NO: 47 and SEQ ID NO: 48, SEQ ID NO: 49 and SEQ ID NO: 50, or SEQ ID NO: 51, and SEQ ID NO: 52.16. The expression construct of claim 7, wherein the AAV vector is associated with a capsid that crosses the blood brain barrier.17. The expression construct of claim 16, wherein the capsid comprises PHP.Eb.18. The expression construct of claim 16, wherein the capsid comprises SEQ ID NO: 53.19. The expression construct of claim 16, wherein the capsid comprises AAV9 capsid with a SEQ ID NO: 54 or SEQ ID NO: 55 insert.20. The expression construct of claim 16, wherein the capsid comprises AAV2 capsid with a SEQ ID NO: 56 insert.21. A composition comprising the expression construct of claim 4.22. A cell comprising the expression construct of claim 4.23. A non-human animal comprising the expression construct of claim 4.24. A kit comprising the expression construct of claim 4.25. A method of rescuing voltage-gated sodium channel function in a defective cell in need thereof comprising administering a therapeutically effective amount of a composition of claim 21 to the cell.26. A method of rescuing voltage-gated sodium channel function in a subject in need thereof comprising administering a therapeutically effective amount of a composition of claim 21 to the subject.27. The method of claim 26, wherein the subject is in need thereof due to a diagnosis of epilepsy, an SCN1A-related seizure disorder, simple febrile seizures (FS), generalized epilepsy with febrile seizures plus (GEFS+), Dravet Syndrome (DS), intractable childhood epilepsy with generalized tonic-clonic seizures (ICE-GTC), intractable infantile partial seizures, myoclonic-astatic epilepsy, Lennox-Gastaut syndrome (LGS), or infantile spasms.28. The method of claim 26, wherein the subject is a pediatric patient.29. The method of claim 26, wherein the subject is less than 4 years old.30. The method of claim 26, wherein the subject is a transgenic Scn1a+/− mouse undergoing a temperature-induced febrile seizure test.31. The method of claim 26, wherein the composition is administered intravenously.32. The method of claim 26, wherein the composition is administered intrathecally into cerebrospinal fluid, via the lateral ventricles or cisterna magna or lumbar space or cannula into the foramen magnum.33. An expression construct comprising:\\n(a) a non-naturally occurring enhancer sequence; and\\n(b) a nucleic acid encoding a protein that rescues voltage-gated sodium channel function;\\nwherein the enhancer sequence:\\n(i) consists of the sequence of SEQ ID NO: 3;\\n(ii) comprises two or more copies of SEQ ID NO: 2 arranged in tandem;\\n(iii) comprises a sequence having at least 90% sequence identity with SEQ ID NO: 3 and maintaining interneuron-specific enhancer function; or\\n(iv) a sequence the complementary strand of which is capable of hybridizing to the sequence of (i), (ii), or (iii); and\\n\\nwherein the enhancer promotes the transcription of the nucleic acid selectively within inhibitory neurons following administration to a sample or subject.34. The expression construct of claim 33, wherein nucleic acid is selected from NavSheP-D60N, NavBp, NavMs, 3×HA-NavSheP-D60N, 3×HA-NavBp, 3×HA-NavMs, His-NavMs, human SCN1A, mouse Scn1a, human SCN1A-3×HA, or mouse Scn1a-3×HA.35. The expression construct of claim 33, comprising a promoter comprising minBglobin or minCMV.36. The expression construct of claim 33, wherein the expression construct is within an adeno-associated viral (AAV) vector.37. The expression construct of claim 33, wherein the expression construct comprises a nucleic acid encoding a reporter protein.38. The expression construct of claim 37, wherein the reporter protein comprises a fluorescent reporter protein.39. The expression construct of claim 33, wherein the expression construct comprises or encodes a skipping element.40. The expression construct of claim 39, wherein the skipping element comprises a 2A peptide or an internal ribosome entry site (IRES).41. The expression construct of claim 40, wherein the 2A peptide comprises T2A, P2A, E2A, and/or F2A.42. The expression construct of claim 36, wherein the construct comprises the elements of CN1367, CN1244, CN1389, CN1390, CN1180, CN1203, CN1498, CN1499, CN1500, CN2001, CN2002, CN2003, CN1504 and CN1512, CN2004 and CN2005, CN2006 and CN2007, or CN2008 and CN2009.43. The expression construct of claim 36, wherein the construct comprises SEQ ID NO: 33, SEQ ID NO: 34, SEQ ID NO: 35, SEQ ID NO: 36, SEQ ID NO: 37, SEQ ID NO: 38, SEQ ID NO: 39, SEQ ID NO: 40, SEQ ID NO: 41, SEQ ID NO: 42, SEQ ID NO: 43, SEQ ID NO: 44, SEQ ID NO: 45, SEQ ID NO: 46, SEQ ID NO: 47, SEQ ID NO: 48, SEQ ID NO: 49, SEQ ID NO: 50, (Original) SEQ ID NO: 51, and/or SEQ ID NO: 52.44. The expression construct of claim 36, wherein the construct comprises SEQ ID NO: 45 and SEQ ID NO: 46, SEQ ID NO: 47 and SEQ ID NO: 48, SEQ ID NO: 49 and SEQ ID NO: 50, or SEQ ID NO: 51, and SEQ ID NO: 5245. The expression construct of claim 36, wherein the AAV vector is associated with a capsid that crosses the blood brain barrier.46. The expression construct of claim 45, wherein the capsid comprises PHP.Eb.47. The expression construct of claim 45, wherein the capsid comprises SEQ ID NO: 53.48. The expression construct of claim 45, wherein the capsid comprises AAV9 capsid with a SEQ ID NO: 54 or SEQ ID NO: 55 insert.49. The expression construct of claim 45, wherein the capsid comprises AAV2 capsid with a SEQ ID NO: 56 insert.50. A composition comprising the expression construct of claim 33.51. A cell comprising the expression construct of claim 33.52. A non-human animal comprising the expression construct of claim 33.53. A kit comprising the expression construct of claim 33.54. A method of rescuing voltage-gated sodium channel function in a defective cell in need thereof comprising administering a therapeutically effective amount of a composition of claim 50 to the cell.55. A method of rescuing voltage-gated sodium channel function in a subject in need thereof comprising administering a therapeutically effective amount of a composition of claim 50 to the subject.56. The method of claim 55, wherein the subject is need thereof due to a diagnosis of epilepsy, an SCN1A-related seizure disorder, simple febrile seizures (FS), generalized epilepsy with febrile seizures plus (GEFS+), Dravet Syndrome (DS), intractable childhood epilepsy with generalized tonic-clonic seizures (ICE-GTC), intractable infantile partial seizures, myoclonic-astatic epilepsy, Lennox-Gastaut syndrome (LGS), or infantile spasms.57. The method of claim 55, wherein the subject is a pediatric patient.58. The method of claim 55, wherein the subject is less than 4 years old.59. The method of claim 55, wherein the subject is a transgenic Scn1a+/− mouse undergoing a temperature-induced febrile seizure test.60. The method of claim 55, wherein the composition is administered intravenously.61. The method of claim 55, wherein the composition is administered intrathecally into cerebrospinal fluid, via the lateral ventricles or cisterna magna or lumbar space or cannula into the foramen magnum.62. A vector system comprising two AAV vectors wherein the first vector encodes the N-terminal portion of a protein that rescues voltage-gated sodium channel activity in a cell in need thereof, and the second vector encodes the C-terminal portion of the protein, wherein the portion of the gene encoded by the two vectors overlaps to provide a region of homology for homologous recombination to produce the full-length Nav1.1 protein, and wherein the first vector comprises a promoter and an enhancer that consists of SEQ ID NO: 3 but does not comprise a termination signal or a polyA signal and the second vector comprises a termination signal and a polyA signal but does not comprise a promoter or an enhancer.63. The vector system of claim 62, wherein the protein comprises human SCN1A.64. The vector system of claim 62, wherein the region of homology is 75-1000 base pairs.65. The vector system of claim 62, wherein the region of homology is 550-650 base pairs.66. The vector system of claim 62, wherein the vectors selectively express the protein in inhibitory neurons.67. The vector system of claim 62, wherein the region of homology further comprises an intron element with a splice donor site on the first vector and a splice acceptor site on the second vector, so that trans-splicing across the homologous region drives more efficient full-length protein reconstitution following recombination.68. The vector system of claim 62, wherein the vector system comprises the elements of CN1504, CN1512, CN2004, CN2005, CN2006, CN2007, CN2008, and/or CN2009.69. The vector system of claim 62, wherein the vector system comprises the elements of CN1504 and CN1512, CN2004 and CN2005, CN2006 and CN2007, or CN2008 and CN2009.70. The vector system of claim 62, wherein the vector system comprises SEQ ID NO: 45 and SEQ ID NO: 46, SEQ ID NO: 47 and SEQ ID NO: 48, SEQ ID NO: 49 and SEQ ID NO: 50, or SEQ ID NO: 51, and SEQ ID NO: 52.71. A viral vector comprising SEQ ID NO: 33, SEQ ID NO: 34, SEQ ID NO: 35, SEQ ID NO: 36, SEQ ID NO: 37, SEQ ID NO: 38, SEQ ID NO: 39, SEQ ID NO: 40, SEQ ID NO: 41, SEQ ID NO: 42, SEQ ID NO: 43, SEQ ID NO: 44, SEQ ID NO: 45, SEQ ID NO: 46, SEQ ID NO: 47, SEQ ID NO: 48, SEQ ID NO: 49, SEQ ID NO: 50, SEQ ID NO: 51, or SEQ ID NO: 52.', 'title': 'RESCUING VOLTAGE-GATED SODIUM CHANNEL FUNCTION IN INHIBITORY NEURONS'}),\n",
              "  406.38397216796875),\n",
              " (Document(page_content='20210121', metadata={'abstract': '\\nA method of operating a sapling hydrating system for a planting apparatus. The method comprising determining a release pressure of hydrating fluid for a release valve to hydrate a sapling based on a target distribution rate of the hydrating fluid, wherein the target distribution rate is received via an input signal. The method further comprising controlling a supply pressure of the hydrating fluid from a pump to be greater than or equal to the release pressure, and controlling an unloading valve fluidly disposed between the pump and a hydrating fluid storage tank. The unloading valve regulating a maximum supply pressure. The method further includes controlling the release valve to provide a first portion of the hydraulic fluid to the release valve at an unloading pressure greater than or equal to the release pressure, and directing the remainder of the hydrating fluid back to the storage tank.\\n\\n', 'application_date': '20190715', 'application_number': '16511987', 'claims': '1. A method of operating a sapling hydrating system for a planting apparatus, the method comprising:\\ndetermining a release pressure of a hydrating fluid for a release valve to hydrate a sapling based at least in part on a target distribution rate of the hydrating fluid, wherein the target distribution rate is received via a target distribution rate input signal;\\ncontrolling a supply pressure of the hydrating fluid from a pump to be greater than or substantially equal to the release pressure;\\ncontrolling an unloading valve fluidly disposed between the pump and a hydrating fluid storage tank, the unloading valve regulating a maximum supply pressure; and\\ncontrolling the release valve to provide a first portion of the hydraulic fluid to the release valve at an unloading pressure greater than or equal to the release pressure, and to direct a remainder of the hydrating fluid back to the hydrating fluid storage tank.2. The method of claim 1, wherein the hydrating fluid comprise at least one of a water, a hydrogel, and a fertilizer.3. The method of claim 1, wherein the target distribution rate input signal is at least one of an electric, pneumatic, and a hydraulic signal.4. The method of claim 1, wherein the target distribution rate is based at least in part on a target volume.5. The method of claim 1 further comprising:\\ndetermining a function mode for the hydrating fluid storage tank between a refill mode and supply mode, wherein the function mode is received via a function mode signal; and\\ncontrolling an access valve fluidly disposed between the pump and an external water source, the access valve toggling between an open position to fill the hydrating fluid storage tank from the external water source during refill mode and a closed position to return the hydrating fluid to the supply pressure during supply mode.6. The method of claim 5 further comprising:\\ncontrolling a stop loss valve fluidly disposed between the pump and the hydrating fluid storage tank, the stop loss valve toggling between a closed position when the function mode is in refill mode and an open position when the function mode is in supply mode.7. The method of claim 1, wherein the release valve is oriented towards the sapling.8. The method of claim 1, wherein the target distribution rate input signal is received from a user input interface.9. A method of operating a sapling hydrating system, comprising:\\ncontrolling a pump fluidly sourced from a hydrating fluid storage tank to control a supply pressure of a hydrating fluid at an inlet to an unloading valve, wherein the unloading valve is fluidly coupled to the pump via the inlet, the unloading valve configured to supply a first portion of the hydrating fluid from the inlet towards a release valve to hydrate a sapling at a release pressure less than or substantially equal to the supply pressure, and the unloading valve configure to recirculate a remainder of the hydrating fluid to the hydrating fluid storage tank;\\ncontrolling the unloading valve to control the release pressure of the first portion of the fluid supplied to the release valve to hydrate a sapling.10. The method of claim 9, wherein the hydrating fluid may comprise of at least one water, hydrogel, and a fertilizer.11. The method of claim 9, wherein the release pressure is based at least in part on at least one of a target distribution rate and a target distribution volume.12. The method of claim 9 further comprising:\\ndetermining a function mode for the hydrating fluid storage tank between a refill mode and supply mode, wherein the function mode is received via a function mode signal; and\\ncontrolling an access valve fluidly disposed between the pump and an external water source, the access valve toggling between an open position to fill the hydrating fluid storage tank from the external water source during refill mode and a closed position to return the hydrating fluid to the supply pressure during supply mode.13. The method of claim 12 further comprising:\\ncontrolling a stop loss valve fluidly disposed between the pump and the hydrating fluid storage tank, the stop loss valve toggling between a closed position when the function mode is in refill mode and an open position when the function mode is in supply mode.14. The method of claim 9, wherein the release valve is oriented towards the sapling.15. A method of operating a sapling hydrating system for a planting apparatus, the method comprising:\\ndetermining a release pressure of a hydrating fluid for a release valve to hydrate a sapling based at least in part on a target distribution rate of the hydrating fluid, wherein the target distribution rate is received via a target distribution rate input signal;\\ncontrolling a supply pressure of the hydrating fluid from a pump to be greater than or substantially equal to the release pressure;\\ncontrolling an unloading valve fluidly disposed between the pump and a hydrating fluid storage tank, the unloading valve regulating a maximum supply pressure;\\ncontrolling the release valve to provide a first portion of the hydraulic fluid to the release valve at an unloading pressure greater than or equal to the release pressure, and to direct a remainder of the hydrating fluid back to the hydrating fluid storage tank, wherein the release valve is oriented towards the sapling;\\ndetermining a function mode for the hydrating fluid storage tank between a refill mode and supply mode, wherein the function mode is received via a function mode signal;\\ncontrolling an access valve fluidly disposed between the pump and an external water source, the access valve toggling between an open position to fill the hydrating fluid storage tank from the external water source during refill mode and a closed position to return the hydrating fluid to the supply pressure during supply mode; and\\ncontrolling a stop loss valve fluidly disposed between the pump and the hydrating fluid storage tank, the stop loss valve toggling between a closed position when the function mode is in refill mode and an open position when the function mode is in supply mode.16. The method of claim 15, wherein the hydrating fluid comprise at least one of a water, a hydrogel, and a fertilizer.17. The method of claim 15, wherein the target distribution rate input signal is at least one of an electric, pneumatic, and a hydraulic signal.18. The method of claim 15, wherein the target distribution rate is based at least in part on a target volume.19. The method of claim 15, wherein the target distribution rate input signal is received from a user input interface.', 'title': 'METHOD OF OPERATING A HYDRATING SYSTEM FOR A SAPLING PLANTING APPARATUS'}),\n",
              "  406.38397216796875),\n",
              " (Document(page_content='20210121', metadata={'abstract': '\\nMachine to prepare hot beverages that uses means of heating a secondary liquid, which transfers temperature to the primary liquid that is used to prepare the hot drink. The machine is fully operated through software that allows the pressure and temperature parameters of each drink prepared in the machine to be saved and accurately reproduced.\\n\\n', 'application_date': '20180328', 'application_number': '15733677', 'claims': '1. A machine for preparing hot beverages, characterized in that it comprises a boiler (1); a pair of water pipes (2); at least one pair of flow meters to control the volume of liquid in relation to the required temperature in the pair of water conduits (2); a metal coil (18) located prior to the extraction duct (21); at least one pair of filling valves of the boiler (11); at least one filling valve for the primary liquid conduits (15); at least one pair of solenoid valves; at least one pair of electrical resistors (14) housed in the pair of conduits (2); at least four safety mechanisms (6) for the temperature of liquids; at least one pair of heat exchangers to raise the temperature of the primary liquid; At least one pair of temperature transmitting RTD probes; a stainless steel grooved ring and hermetic gasket (19), integrated to the boiler (1); a hydraulic pump with variable speed and pressure; at least one three-way solenoid valve (16) located at the base of the boiler (1); at least one pair of digital pressure readers; at least one pair of current transformers; a printed circuit board to control, by means of software, analog and digital outputs and wireless data connections such as wi-fi and bluetooth; at least one speed variator of the pump; a potentiometer; at least one touch screen; a plurality of electronic buttons; a plurality of solid state relays; a main on/off switch; a support structure, preferably made of lightweight metallic material; an outer casing (10), which covers all the internal components of the machine.2. The machine for preparing hot beverages according to claim 1, characterized in that the pair of water pipes (2) are housed inside the boiler (1) and include heating elements controlled by RTD probes.3. The machine for preparing hot beverages according to claim 1, characterized in that the boiler (1) forms a saturation means for the coil (17) that carries the primary liquid.4. The machine for preparing hot beverages according to claim 1, characterized in that the pair of conduits (2) of the primary liquid are arranged in the center of the helical that makes up the coil (17) housed inside the boiler (1), said conduits (2) joining in a single one outside the boiler (1) and extending through the extraction head, first passing through the center of the coil (18) of said head.', 'title': 'MACHINE FOR PREPARING HOT BEVERAGES'}),\n",
              "  406.38397216796875),\n",
              " (Document(page_content='20210121', metadata={'abstract': '\\nThe present invention relates to a cosmetic and/or dermatological composition comprising, in a physiologically acceptable medium aerogel particles comprising an alginate, as well as the cosmetic use of a cosmetic and/or dermatological composition comprising, in a physiologically acceptable medium aerogel particles comprising an alginate, for treating the skin.\\n\\n', 'application_date': '20190401', 'application_number': '15733701', 'claims': '1. A cosmetic and/or dermatological composition comprising, in a physiologically acceptable medium, aerogel particles comprising an alginate.2. The composition according to claim 1, wherein the aerogel particles have a bulk density in the range of from 0.03 to 1 kg/m3.3. The composition according to claim 1, wherein the aerogel has a degree of cross-linking in the range of from 0.5 to 2.4. The composition according to claim 1, wherein the aerogel comprises one or more further polysaccharide.5. The composition according to claim 1, wherein the aerogel is obtained by a process for preparing a porous material, comprising:\\na) providing a mixture (I) comprising\\n(i) a water soluble alginate,\\n(ii) at least one compound suitable to react as cross-linker for the alginate or to release a cross-linker for the alginate,\\n(iii) water,\\n\\nb) preparing a gel (A) comprising steps b1) and b2)\\nb1) exposing mixture (I) to carbon dioxide at a pressure in the range of from 20 to 100 bar for a time sufficient to form a gel (A), and\\nb2) depressurizing the gel (A),\\nc) exposing the gel (A) obtained in step b) to a water miscible solvent (L) to obtain a gel (B),\\nd) drying of the gel (B) obtained in step c).6. The composition according to claim 1, wherein a volume average pore diameter of the aerogel is not more than 4 microns.7. The composition according to claim 1, wherein a volume average pore diameter of the aerogel particles is at least 20 nm.8. The composition according to claim 1, wherein the aerogel has a porosity of at least 70% by volume.9. The composition according to claim 1, wherein the aerogel is present in the composition in an amount in the range of from 0.02 to 10% by weight, based on the total weight of the composition.10. The composition according to claim 1, wherein the composition comprises at least one aqueous phase.11. The composition according to claim 1, for use in treating the skin.12. The composition according to claim 7, wherein the average pore diameter of the aerogel particles is at least 50 nm.13. The composition according to claim 8, wherein the aerogel has a porosity of 70 to 99% by volume.14. The composition according to claim 9, wherein the aerogel is present in the composition in an amount from 0.02 to 0.5% by weight-based on the total weight of the composition.', 'title': 'AEROGELS AND THEIR USE IN COSMETIC APPLICATIONS'}),\n",
              "  406.38397216796875),\n",
              " (Document(page_content='20210121', metadata={'abstract': '\\nA medical device includes: a sheath; a first bending portion provided at a distal end side of the sheath; a second bending portion provided between the first bending portion and the sheath; a first wire fixed to a first wire fixing portion provided at a distal end side of the first bending portion and inserted in the sheath toward a proximal end side of the sheath; and a second wire fixed to a second wire fixing portion provided between the first bending portion and the second bending portion and inserted in the sheath toward the proximal end side of the sheath, wherein a part of the first wire positioned in the first bending portion and a part of the first wire positioned in the second bending portion have straightness, and at least a part of the second wire positioned in the second bending portion has straightness.\\n\\n', 'application_date': '20201005', 'application_number': '17063006', 'claims': '1. A medical device comprising:\\na sheath;\\na first bending portion provided at a distal end side of the sheath;\\na second bending portion provided between the first bending portion and the sheath;\\na first wire fixed to a first wire fixing portion provided at a distal end side of the first bending portion and inserted in the sheath toward a proximal end side of the sheath; and\\na second wire fixed to a second wire fixing portion provided between the first bending portion and the second bending portion and inserted in the sheath toward the proximal end side of the sheath,\\nwherein a part of the first wire positioned in the first bending portion and a part of the first wire positioned in the second bending portion have straightness, and\\nat least a part of the second wire positioned in the second bending portion has straightness.2. The medical device according to claim 1, wherein\\nthe first wire and the second wire are composed of\\na straight wire member having straightness, and\\na non-straight wire member made of a material different from that of the straight wire member, and\\n\\nat least a part of the first wire positioned in the first bending portion and a part of the first wire positioned in the second bending portion are composed of the straight wire member, and\\nat least a part of the second wire positioned in the second bending portion is composed of the straight wire member.3. The medical device according to claim 1, wherein the first bending portion and the second bending portion have lower bending rigidity than the first wire fixing portion, the second wire fixing portion, and the sheath.4. The medical device according to claim 1, wherein the second wire is arranged with a phase shift of 180 degrees around a central axis of the second bending portion with respect to the first wire.5. The medical device according to claim 1, wherein the second wire is arranged with a phase shift of 90 degrees around a central axis of the second bending portion with respect to the first wire.6. The medical device according to claim 1, wherein the second wire fixing portion further includes an insertion hole through which the first wire is inserted so as to be capable of moving forward and backward.', 'title': 'MEDICAL DEVICE'}),\n",
              "  406.38397216796875)]"
            ]
          },
          "execution_count": 23,
          "metadata": {},
          "output_type": "execute_result"
        }
      ],
      "source": [
        "query = \"humidity and temperature control system automation\"\n",
        "results = patent_db.similarity_search_with_score(query, 10)\n",
        "\n",
        "results"
      ]
    },
    {
      "cell_type": "markdown",
      "metadata": {
        "id": "r5MA54J0jHzD"
      },
      "source": [
        "### Query with a patented document's title, abstract, and claims."
      ]
    },
    {
      "cell_type": "code",
      "execution_count": null,
      "metadata": {
        "id": "aVhfHMxj_-Qu"
      },
      "outputs": [],
      "source": [
        "# US11096325B2, 2017-12-28 Application filed by LG Electronics Inc from google patent\n",
        "\n",
        "LGpat_title = \"Lawn mower robot\"\n",
        "\n",
        "LGpat_abstract = \"A lawn mower robot includes an inner body provided with casters and wheels for moving, a plurality of blades rotatably provided on a bottom surface of the inner body to cut grass, a drive motor mounted on the wheels, respectively, to independently drive the wheels, and an outer cover mounted on and configured to surround an outer side of the inner body to be movable in forward, backward, leftward and rightward directions with respect to the inner body when colliding with an obstacle. A plurality of ultrasonic sensors are provided to sense an obstacle, and an ultrasonic guide unit is formed to be recessed rearward from a front end portion of the outer cover so as to restrict a downward propagation angle of ultrasonic waves generated from the ultrasonic sensors.\"\n",
        "\n",
        "LGpat_claim_1 = \"\"\"1. A lawn mower robot, comprising:\n",
        "an inner body provided with casters near a front side of the inner body and wheels near a rear side of the inner body;\n",
        "a plurality of blades rotatably provided on a bottom surface of the inner body to cut grass;\n",
        "a drive motor mounted on each of the wheels to independently drive the wheels;\n",
        "an outer cover configured to surround the inner body and mounted on the inner body to be movable relative to the inner body, the outer cover being configured to move forward, backward, left and right with respect to the inner body when the outer cover of the lawn mover robot collides with an obstacle; and\n",
        "support portions provided at front and rear upper portions of the inner body, to elastically support the outer cover,\n",
        "wherein the support portions include:\n",
        "a support portion body coupled to the outer cover and made of an elastic material to elastically support the outer cover; and\n",
        "a plurality of curved portions coupled to an outer circumferential surface of the support portion body and curved along a radial direction from the support portion body to support the support portion body so as to be movable in lateral and vertical directions,\n",
        "wherein the plurality of curved portions are aligned in the radial direction along an outer circumferential surface of the support portion body.\"\"\"\n",
        "\n",
        "LGpat_claim = \"\"\"1. A lawn mower robot, comprising:\n",
        "an inner body provided with casters near a front side of the inner body and wheels near a rear side of the inner body;\n",
        "a plurality of blades rotatably provided on a bottom surface of the inner body to cut grass;\n",
        "a drive motor mounted on each of the wheels to independently drive the wheels;\n",
        "an outer cover configured to surround the inner body and mounted on the inner body to be movable relative to the inner body, the outer cover being configured to move forward, backward, left and right with respect to the inner body when the outer cover of the lawn mover robot collides with an obstacle; and\n",
        "support portions provided at front and rear upper portions of the inner body, to elastically support the outer cover,\n",
        "wherein the support portions include:\n",
        "a support portion body coupled to the outer cover and made of an elastic material to elastically support the outer cover; and\n",
        "a plurality of curved portions coupled to an outer circumferential surface of the support portion body and curved along a radial direction from the support portion body to support the support portion body so as to be movable in lateral and vertical directions,\n",
        "wherein the plurality of curved portions are aligned in the radial direction along an outer circumferential surface of the support portion body.\n",
        "2. The lawn mower robot of claim 1, further comprising:\n",
        "a plurality of ultrasonic sensors provided at a front side of the outer cover to sense an obstacle in front of the lawn mower robot; and\n",
        "an ultrasonic guide unit formed on the outer cover and configured to restrict a downward propagation angle of ultrasonic waves generated from the ultrasonic sensors.\n",
        "3. The lawn mower robot of claim 2, wherein the ultrasonic guide unit includes:\n",
        "a lateral surface provided at a predetermined height above an upper end of a front end portion of the outer cover and extending from the front end of the outer cover toward a rear end of the outer cover;\n",
        "a mounting surface provided a prescribed distance from the front end portion of the outer cover and extending upward from the lateral surface, wherein the plurality of ultrasonic sensors are embedded in the mounting surface; and\n",
        "a side surface formed at both lateral sides of the mounting surface and angled laterally.\n",
        "4. The lawn mower robot of claim 3, wherein the lateral surface is angled relative to the ground such that a propagation angle of the ultrasonic waves in a vertical direction is greater than a prescribed minimum angle to restrict downward propagation of the ultrasonic waves.\n",
        "5. The lawn mower robot of claim 3, wherein the plurality of ultrasonic sensors are spaced apart from each other along the mounting surface.\n",
        "6. The lawn mower robot of claim 2, further comprising:\n",
        "a control unit configured to control the drive motors according to a signal sensed from the plurality of ultrasonic sensors to reduce a driving speed of the wheels.\n",
        "7. The lawn mower robot of claim 1, further comprising:\n",
        "a height adjusting lever rotatably mounted on the upper portion of the inner body to adjust a height of the blade;\n",
        "a first opening formed at an upper portion of the outer cover in communication with the height adjusting lever; and\n",
        "a first cover that is hinge-coupled to the outer cover to open and close the first opening.\n",
        "8. The lawn mower robot of claim 7, further comprising:\n",
        "a display and a keypad provided at a rear upper portion of the inner body;\n",
        "a second opening formed at a rear upper portion of the outer cover in communication with the display and the keypad; and\n",
        "a second cover that is hinge-coupled to the outer cover to open and close the second opening.\n",
        "9. The lawn mower robot of claim 8, further comprising:\n",
        "an emergency stop switch disposed between the first cover and the second cover, the emergency stop switch being mounted on the outer cover and configured to be pressed in an emergency to stop the wheels.\n",
        "10. The lawn mower robot of claim 1, further comprising:\n",
        "a carry handle, both sides of which extend in an upwardly inclined manner from an upper front side of side surfaces of the outer cover to a rear side of the outer cover to protrude toward a rear upper portion of the outer cover, and having a rear end portion which is formed in a closed curved surface shape.\n",
        "11. The lawn mower robot of claim 1, further comprising charging terminals for charging a battery are provided at an upper portion of one side of the outer cover.\n",
        "12. The lawn mower robot of claim 1, further comprising IR receiving windows and IR sensors configured to sense a charging stand, the IR receiving windows being provided on front and rear surfaces of the outer cover, wherein the IR receiving window provided on the front surface of the outer cover is disposed at a position closer to the charging stand with respect to a longitudinal center line of the outer cover than the IR receiving window provided on the rear surface.\n",
        "13. The lawn mower robot of claim 1, further comprising:\n",
        "a joystick bumper provided on the inner body to be rotatable in all directions, wherein an upper side of the joystick bumper is coupled to the outer cover and a sensing unit configured to sense collisions between the outer cover and an obstacle is provided at a lower side of the joystick bumper.\n",
        "14. The lawn mower robot of claim 13, wherein the joystick bumper includes:\n",
        "a bumper body formed in a rod-shaped structure disposed to extend in a vertical direction;\n",
        "a joint protrusion portion that protrudes from an intermediate portion of the bumper body and configured to allow movement of the upper side of the bumper body in lateral directions with respect to the inner body and mounted on a joint bumper mounting portion within the inner body; and\n",
        "a spring having one side coupled to the joint bumper mounting portion within inner body and another side mounted on the bumper body to extend downward from the joint protrusion portion and configured to return the bumper body to an original position.\n",
        "15. The lawn mower robot of claim 14, wherein the sensing unit includes a magnet provided on a bottom end of the bumper body and a hall sensor provided within the inner body and configured to sense a collision between the outer cover and an obstacle by interaction with the magnet.\n",
        "16. The lawn mower robot of claim 15, wherein when the bumper body is in the original position, the magnet is positioned over the hall sensor, and when the bumper body is moved from the original position, the magnet is moved away from the hall sensor and the wheels are controlled to stop rotating.\n",
        "17. The lawn mower robot of claim 13, wherein the joystick bumper includes an elastic member having an upper end portion coupled to an upper portion of the joystick bumper to surround the joystick bumper, and a lower end portion coupled to the inner body to elastically support the joystick bumper, wherein the elastic member is formed in a bellows shape in which a width of the elastic member gradually decreases in an upward direction.\n",
        "18. The lawn mower robot of claim 1, further comprising:\n",
        "a battery mounted within the inner body; and\n",
        "a display and a keypad mounted on an upper rear side of the inner body.\n",
        "19. A lawn mower robot, comprising:\n",
        "an inner body;\n",
        "an outer body to cover the inner body;\n",
        "support portions provided at front and rear upper portions of the inner body to elastically support the outer body,\n",
        "casters provided near a front side of the inner body;\n",
        "wheels provided near a rear side of the inner body;\n",
        "a plurality of blades rotatably provided on a bottom surface of the inner body to cut grass;\n",
        "a plurality of drive motors that drive the wheels and the blades;\n",
        "a plurality of sensors configured to sense an obstacle in a path of the lawn mower robot, to sense a collision between the outer body and the obstacle, and to sense a position of a charging station relative to the lawn mower robot; and\n",
        "a controller to automatically control the wheels and the blades to stop rotating based on sensed information from the plurality of sensors, wherein the support portions include:\n",
        "a support portion body coupled to the outer body and made of an elastic material to elastically support the outer body; and\n",
        "a plurality of curved portions coupled to an outer circumferential surface of the support portion body and curved along a radial direction from the support portion body to support the support portion body so as to be movable in lateral and vertical directions,\n",
        "wherein the plurality of curved portions are aligned in the radial direction on an outer circumferential surface of the support portion body.\n",
        "20. The law mower robot of claim 1, wherein the plurality of curved portions form an accordion shape.\"\"\"\n"
      ]
    },
    {
      "cell_type": "code",
      "execution_count": null,
      "metadata": {
        "id": "hgb29DNsAQwC"
      },
      "outputs": [],
      "source": [
        "# query to TITLE DB with score\n",
        "query = LGpat_title\n",
        "results = title_db.similarity_search_with_score(query, 10)\n",
        "\n",
        "results"
      ]
    },
    {
      "cell_type": "code",
      "execution_count": null,
      "metadata": {
        "id": "VAMFuQ6-_-gN"
      },
      "outputs": [],
      "source": [
        "query = LGpat_abstract\n",
        "results = abstract_db.similarity_search_with_score(query, 10)\n",
        "\n",
        "results"
      ]
    },
    {
      "cell_type": "code",
      "execution_count": null,
      "metadata": {
        "id": "PNGP0pXK_-mn"
      },
      "outputs": [],
      "source": [
        "# query the WHOLE claims of LG patent to CLAIMS DB with score\n",
        "query = LGpat_claim\n",
        "results = claims_db.similarity_search_with_score(query, 10)\n",
        "\n",
        "results"
      ]
    },
    {
      "cell_type": "code",
      "execution_count": null,
      "metadata": {
        "id": "v_lLnOrrn9_9"
      },
      "outputs": [],
      "source": [
        "# query the first claim of LG patent to CLAIMS DB with score\n",
        "query = LGpat_claim_1\n",
        "results = claims_db.similarity_search_with_score(query, 10)\n",
        "\n",
        "results"
      ]
    },
    {
      "cell_type": "markdown",
      "metadata": {
        "id": "9dxosnt6jf7J"
      },
      "source": [
        "### Query by METADATA"
      ]
    },
    {
      "cell_type": "code",
      "execution_count": null,
      "metadata": {
        "id": "KvCt12se_xn7"
      },
      "outputs": [],
      "source": [
        "# query by application number\n",
        "import textwrap\n",
        "\n",
        "meta_query = {'application_number': '17043261'}\n",
        "\n",
        "results_title = title_db.get(where=meta_query)\n",
        "results_abstract = abstract_db.get(where=meta_query)\n",
        "results_claims = claims_db.get(where=meta_query)\n",
        "\n",
        "print(\"Results for\", meta_query)\n",
        "print(\"Application Date : \", results_title[\"metadatas\"][0][\"application_date\"])\n",
        "print(\"Title : \", results_title[\"documents\"][0])\n",
        "print(\"Abstract : \", results_abstract[\"documents\"][0])\n",
        "print(\"Claims : \", '\\n'.join(textwrap.wrap(results_claims[\"documents\"][0], 200)))"
      ]
    },
    {
      "cell_type": "markdown",
      "metadata": {
        "id": "P6aOQv7bnC2c"
      },
      "source": [
        "### Machine Translation\n",
        "* You can find more information from [here](https://learn.deeplearning.ai/courses/open-source-models-hugging-face/lesson/4/translation-and-summarization)\n",
        "* To choose other languages, you can find the other language codes on the page: [Languages in FLORES-200](https://github.com/facebookresearch/flores/blob/main/flores200/README.md#languages-in-flores-200)\n",
        "  - Tagalog\ttgl_Latn"
      ]
    },
    {
      "cell_type": "code",
      "execution_count": null,
      "metadata": {
        "id": "345DCqZDnDOY"
      },
      "outputs": [],
      "source": [
        "# Libraries for Machine Translation\n",
        "\n",
        "!pip install transformers\n",
        "!pip install torch"
      ]
    },
    {
      "cell_type": "code",
      "execution_count": null,
      "metadata": {
        "id": "lOC-f0GrnSYr"
      },
      "outputs": [],
      "source": [
        "# code that suppresses warning messages\n",
        "\n",
        "from transformers.utils import logging\n",
        "logging.set_verbosity_error()"
      ]
    },
    {
      "cell_type": "code",
      "execution_count": null,
      "metadata": {
        "id": "5vOWLHgwnS35"
      },
      "outputs": [],
      "source": [
        "from transformers import pipeline"
      ]
    },
    {
      "cell_type": "code",
      "execution_count": null,
      "metadata": {
        "id": "TXNNQVZBnUxb"
      },
      "outputs": [],
      "source": [
        "translator = pipeline(task=\"translation\",\n",
        "                      model=\"facebook/nllb-200-distilled-600M\")"
      ]
    },
    {
      "cell_type": "code",
      "execution_count": null,
      "metadata": {
        "id": "iWgbykgZlycO"
      },
      "outputs": [],
      "source": [
        "query = \"lawn trimming tool\"\n",
        "results = abstract_db.similarity_search_with_score(query, 10)\n",
        "\n",
        "results"
      ]
    },
    {
      "cell_type": "code",
      "execution_count": null,
      "metadata": {
        "id": "jJPfTMYmoIvp"
      },
      "outputs": [],
      "source": [
        "text = results[0][0].page_content\n",
        "text_translated = translator(text,\n",
        "                             src_lang=\"eng_Latn\",  # from english\n",
        "                             tgt_lang=\"kor_Hang\")  # to Korean"
      ]
    },
    {
      "cell_type": "code",
      "execution_count": null,
      "metadata": {
        "id": "obqy2tpyflTE"
      },
      "outputs": [],
      "source": [
        "print(\"Source: \", text)\n",
        "print(\"Translated: \", text_translated[0]['translation_text'])"
      ]
    },
    {
      "cell_type": "markdown",
      "metadata": {
        "id": "C91qFuBsmmmg"
      },
      "source": [
        "### Adding user interface"
      ]
    },
    {
      "cell_type": "code",
      "execution_count": null,
      "metadata": {
        "id": "xvDHOc4pml-C"
      },
      "outputs": [],
      "source": [
        "!pip install gradio"
      ]
    },
    {
      "cell_type": "code",
      "execution_count": null,
      "metadata": {
        "id": "Hx_EsWoMpTbX"
      },
      "outputs": [],
      "source": [
        "import gradio as gr"
      ]
    },
    {
      "cell_type": "code",
      "execution_count": null,
      "metadata": {
        "id": "zVO9J019gmmp"
      },
      "outputs": [],
      "source": [
        "# For query for text\n",
        "# https://www.gradio.app/guides/quickstart\n",
        "\n",
        "def greet(query):\n",
        "    results = abstract_db.similarity_search_with_score(query, 10)\n",
        "    return results\n",
        "\n",
        "demo = gr.Interface(\n",
        "    fn=greet,\n",
        "    inputs=gr.Textbox(lines=2, placeholder=\"input query text\"),\n",
        "    outputs=\"text\"\n",
        ")\n",
        "\n",
        "demo.launch()"
      ]
    },
    {
      "cell_type": "markdown",
      "metadata": {
        "id": "q3fXnH4Y6cIH"
      },
      "source": [
        "# gradio ui\n",
        "\n"
      ]
    },
    {
      "cell_type": "code",
      "execution_count": null,
      "metadata": {
        "colab": {
          "base_uri": "https://localhost:8080/"
        },
        "id": "nJGWsLhKAx2V",
        "outputId": "332cf6bc-f66f-4899-9c81-4ba6b7d01d45"
      },
      "outputs": [
        {
          "name": "stdout",
          "output_type": "stream",
          "text": [
            "Collecting gradio\n",
            "  Downloading gradio-4.27.0-py3-none-any.whl (17.1 MB)\n",
            "\u001b[2K     \u001b[90m━━━━━━━━━━━━━━━━━━━━━━━━━━━━━━━━━━━━━━━━\u001b[0m \u001b[32m17.1/17.1 MB\u001b[0m \u001b[31m12.8 MB/s\u001b[0m eta \u001b[36m0:00:00\u001b[0m\n",
            "\u001b[?25hCollecting aiofiles<24.0,>=22.0 (from gradio)\n",
            "  Downloading aiofiles-23.2.1-py3-none-any.whl (15 kB)\n",
            "Requirement already satisfied: altair<6.0,>=4.2.0 in /usr/local/lib/python3.10/dist-packages (from gradio) (4.2.2)\n",
            "Collecting fastapi (from gradio)\n",
            "  Downloading fastapi-0.110.2-py3-none-any.whl (91 kB)\n",
            "\u001b[2K     \u001b[90m━━━━━━━━━━━━━━━━━━━━━━━━━━━━━━━━━━━━━━━━\u001b[0m \u001b[32m91.9/91.9 kB\u001b[0m \u001b[31m2.7 MB/s\u001b[0m eta \u001b[36m0:00:00\u001b[0m\n",
            "\u001b[?25hCollecting ffmpy (from gradio)\n",
            "  Downloading ffmpy-0.3.2.tar.gz (5.5 kB)\n",
            "  Preparing metadata (setup.py) ... \u001b[?25l\u001b[?25hdone\n",
            "Collecting gradio-client==0.15.1 (from gradio)\n",
            "  Downloading gradio_client-0.15.1-py3-none-any.whl (313 kB)\n",
            "\u001b[2K     \u001b[90m━━━━━━━━━━━━━━━━━━━━━━━━━━━━━━━━━━━━━━━━\u001b[0m \u001b[32m313.6/313.6 kB\u001b[0m \u001b[31m10.9 MB/s\u001b[0m eta \u001b[36m0:00:00\u001b[0m\n",
            "\u001b[?25hCollecting httpx>=0.24.1 (from gradio)\n",
            "  Downloading httpx-0.27.0-py3-none-any.whl (75 kB)\n",
            "\u001b[2K     \u001b[90m━━━━━━━━━━━━━━━━━━━━━━━━━━━━━━━━━━━━━━━━\u001b[0m \u001b[32m75.6/75.6 kB\u001b[0m \u001b[31m5.6 MB/s\u001b[0m eta \u001b[36m0:00:00\u001b[0m\n",
            "\u001b[?25hRequirement already satisfied: huggingface-hub>=0.19.3 in /usr/local/lib/python3.10/dist-packages (from gradio) (0.20.3)\n",
            "Requirement already satisfied: importlib-resources<7.0,>=1.3 in /usr/local/lib/python3.10/dist-packages (from gradio) (6.4.0)\n",
            "Requirement already satisfied: jinja2<4.0 in /usr/local/lib/python3.10/dist-packages (from gradio) (3.1.3)\n",
            "Requirement already satisfied: markupsafe~=2.0 in /usr/local/lib/python3.10/dist-packages (from gradio) (2.1.5)\n",
            "Requirement already satisfied: matplotlib~=3.0 in /usr/local/lib/python3.10/dist-packages (from gradio) (3.7.1)\n",
            "Requirement already satisfied: numpy~=1.0 in /usr/local/lib/python3.10/dist-packages (from gradio) (1.25.2)\n",
            "Collecting orjson~=3.0 (from gradio)\n",
            "  Downloading orjson-3.10.1-cp310-cp310-manylinux_2_17_x86_64.manylinux2014_x86_64.whl (141 kB)\n",
            "\u001b[2K     \u001b[90m━━━━━━━━━━━━━━━━━━━━━━━━━━━━━━━━━━━━━━━━\u001b[0m \u001b[32m141.1/141.1 kB\u001b[0m \u001b[31m16.9 MB/s\u001b[0m eta \u001b[36m0:00:00\u001b[0m\n",
            "\u001b[?25hRequirement already satisfied: packaging in /usr/local/lib/python3.10/dist-packages (from gradio) (24.0)\n",
            "Requirement already satisfied: pandas<3.0,>=1.0 in /usr/local/lib/python3.10/dist-packages (from gradio) (2.0.3)\n",
            "Requirement already satisfied: pillow<11.0,>=8.0 in /usr/local/lib/python3.10/dist-packages (from gradio) (9.4.0)\n",
            "Requirement already satisfied: pydantic>=2.0 in /usr/local/lib/python3.10/dist-packages (from gradio) (2.7.0)\n",
            "Collecting pydub (from gradio)\n",
            "  Downloading pydub-0.25.1-py2.py3-none-any.whl (32 kB)\n",
            "Collecting python-multipart>=0.0.9 (from gradio)\n",
            "  Downloading python_multipart-0.0.9-py3-none-any.whl (22 kB)\n",
            "Requirement already satisfied: pyyaml<7.0,>=5.0 in /usr/local/lib/python3.10/dist-packages (from gradio) (6.0.1)\n",
            "Collecting ruff>=0.2.2 (from gradio)\n",
            "  Downloading ruff-0.4.1-py3-none-manylinux_2_17_x86_64.manylinux2014_x86_64.whl (8.7 MB)\n",
            "\u001b[2K     \u001b[90m━━━━━━━━━━━━━━━━━━━━━━━━━━━━━━━━━━━━━━━━\u001b[0m \u001b[32m8.7/8.7 MB\u001b[0m \u001b[31m39.4 MB/s\u001b[0m eta \u001b[36m0:00:00\u001b[0m\n",
            "\u001b[?25hCollecting semantic-version~=2.0 (from gradio)\n",
            "  Downloading semantic_version-2.10.0-py2.py3-none-any.whl (15 kB)\n",
            "Collecting tomlkit==0.12.0 (from gradio)\n",
            "  Downloading tomlkit-0.12.0-py3-none-any.whl (37 kB)\n",
            "Collecting typer<1.0,>=0.12 (from gradio)\n",
            "  Downloading typer-0.12.3-py3-none-any.whl (47 kB)\n",
            "\u001b[2K     \u001b[90m━━━━━━━━━━━━━━━━━━━━━━━━━━━━━━━━━━━━━━━━\u001b[0m \u001b[32m47.2/47.2 kB\u001b[0m \u001b[31m5.0 MB/s\u001b[0m eta \u001b[36m0:00:00\u001b[0m\n",
            "\u001b[?25hRequirement already satisfied: typing-extensions~=4.0 in /usr/local/lib/python3.10/dist-packages (from gradio) (4.11.0)\n",
            "Requirement already satisfied: urllib3~=2.0 in /usr/local/lib/python3.10/dist-packages (from gradio) (2.0.7)\n",
            "Collecting uvicorn>=0.14.0 (from gradio)\n",
            "  Downloading uvicorn-0.29.0-py3-none-any.whl (60 kB)\n",
            "\u001b[2K     \u001b[90m━━━━━━━━━━━━━━━━━━━━━━━━━━━━━━━━━━━━━━━━\u001b[0m \u001b[32m60.8/60.8 kB\u001b[0m \u001b[31m3.6 MB/s\u001b[0m eta \u001b[36m0:00:00\u001b[0m\n",
            "\u001b[?25hRequirement already satisfied: fsspec in /usr/local/lib/python3.10/dist-packages (from gradio-client==0.15.1->gradio) (2023.6.0)\n",
            "Collecting websockets<12.0,>=10.0 (from gradio-client==0.15.1->gradio)\n",
            "  Downloading websockets-11.0.3-cp310-cp310-manylinux_2_5_x86_64.manylinux1_x86_64.manylinux_2_17_x86_64.manylinux2014_x86_64.whl (129 kB)\n",
            "\u001b[2K     \u001b[90m━━━━━━━━━━━━━━━━━━━━━━━━━━━━━━━━━━━━━━━━\u001b[0m \u001b[32m129.9/129.9 kB\u001b[0m \u001b[31m16.2 MB/s\u001b[0m eta \u001b[36m0:00:00\u001b[0m\n",
            "\u001b[?25hRequirement already satisfied: entrypoints in /usr/local/lib/python3.10/dist-packages (from altair<6.0,>=4.2.0->gradio) (0.4)\n",
            "Requirement already satisfied: jsonschema>=3.0 in /usr/local/lib/python3.10/dist-packages (from altair<6.0,>=4.2.0->gradio) (4.19.2)\n",
            "Requirement already satisfied: toolz in /usr/local/lib/python3.10/dist-packages (from altair<6.0,>=4.2.0->gradio) (0.12.1)\n",
            "Requirement already satisfied: anyio in /usr/local/lib/python3.10/dist-packages (from httpx>=0.24.1->gradio) (3.7.1)\n",
            "Requirement already satisfied: certifi in /usr/local/lib/python3.10/dist-packages (from httpx>=0.24.1->gradio) (2024.2.2)\n",
            "Collecting httpcore==1.* (from httpx>=0.24.1->gradio)\n",
            "  Downloading httpcore-1.0.5-py3-none-any.whl (77 kB)\n",
            "\u001b[2K     \u001b[90m━━━━━━━━━━━━━━━━━━━━━━━━━━━━━━━━━━━━━━━━\u001b[0m \u001b[32m77.9/77.9 kB\u001b[0m \u001b[31m8.8 MB/s\u001b[0m eta \u001b[36m0:00:00\u001b[0m\n",
            "\u001b[?25hRequirement already satisfied: idna in /usr/local/lib/python3.10/dist-packages (from httpx>=0.24.1->gradio) (3.7)\n",
            "Requirement already satisfied: sniffio in /usr/local/lib/python3.10/dist-packages (from httpx>=0.24.1->gradio) (1.3.1)\n",
            "Collecting h11<0.15,>=0.13 (from httpcore==1.*->httpx>=0.24.1->gradio)\n",
            "  Downloading h11-0.14.0-py3-none-any.whl (58 kB)\n",
            "\u001b[2K     \u001b[90m━━━━━━━━━━━━━━━━━━━━━━━━━━━━━━━━━━━━━━━━\u001b[0m \u001b[32m58.3/58.3 kB\u001b[0m \u001b[31m7.8 MB/s\u001b[0m eta \u001b[36m0:00:00\u001b[0m\n",
            "\u001b[?25hRequirement already satisfied: filelock in /usr/local/lib/python3.10/dist-packages (from huggingface-hub>=0.19.3->gradio) (3.13.4)\n",
            "Requirement already satisfied: requests in /usr/local/lib/python3.10/dist-packages (from huggingface-hub>=0.19.3->gradio) (2.31.0)\n",
            "Requirement already satisfied: tqdm>=4.42.1 in /usr/local/lib/python3.10/dist-packages (from huggingface-hub>=0.19.3->gradio) (4.66.2)\n",
            "Requirement already satisfied: contourpy>=1.0.1 in /usr/local/lib/python3.10/dist-packages (from matplotlib~=3.0->gradio) (1.2.1)\n",
            "Requirement already satisfied: cycler>=0.10 in /usr/local/lib/python3.10/dist-packages (from matplotlib~=3.0->gradio) (0.12.1)\n",
            "Requirement already satisfied: fonttools>=4.22.0 in /usr/local/lib/python3.10/dist-packages (from matplotlib~=3.0->gradio) (4.51.0)\n",
            "Requirement already satisfied: kiwisolver>=1.0.1 in /usr/local/lib/python3.10/dist-packages (from matplotlib~=3.0->gradio) (1.4.5)\n",
            "Requirement already satisfied: pyparsing>=2.3.1 in /usr/local/lib/python3.10/dist-packages (from matplotlib~=3.0->gradio) (3.1.2)\n",
            "Requirement already satisfied: python-dateutil>=2.7 in /usr/local/lib/python3.10/dist-packages (from matplotlib~=3.0->gradio) (2.8.2)\n",
            "Requirement already satisfied: pytz>=2020.1 in /usr/local/lib/python3.10/dist-packages (from pandas<3.0,>=1.0->gradio) (2023.4)\n",
            "Requirement already satisfied: tzdata>=2022.1 in /usr/local/lib/python3.10/dist-packages (from pandas<3.0,>=1.0->gradio) (2024.1)\n",
            "Requirement already satisfied: annotated-types>=0.4.0 in /usr/local/lib/python3.10/dist-packages (from pydantic>=2.0->gradio) (0.6.0)\n",
            "Requirement already satisfied: pydantic-core==2.18.1 in /usr/local/lib/python3.10/dist-packages (from pydantic>=2.0->gradio) (2.18.1)\n",
            "Requirement already satisfied: click>=8.0.0 in /usr/local/lib/python3.10/dist-packages (from typer<1.0,>=0.12->gradio) (8.1.7)\n",
            "Collecting shellingham>=1.3.0 (from typer<1.0,>=0.12->gradio)\n",
            "  Downloading shellingham-1.5.4-py2.py3-none-any.whl (9.8 kB)\n",
            "Requirement already satisfied: rich>=10.11.0 in /usr/local/lib/python3.10/dist-packages (from typer<1.0,>=0.12->gradio) (13.7.1)\n",
            "Collecting starlette<0.38.0,>=0.37.2 (from fastapi->gradio)\n",
            "  Downloading starlette-0.37.2-py3-none-any.whl (71 kB)\n",
            "\u001b[2K     \u001b[90m━━━━━━━━━━━━━━━━━━━━━━━━━━━━━━━━━━━━━━━━\u001b[0m \u001b[32m71.9/71.9 kB\u001b[0m \u001b[31m8.8 MB/s\u001b[0m eta \u001b[36m0:00:00\u001b[0m\n",
            "\u001b[?25hRequirement already satisfied: attrs>=22.2.0 in /usr/local/lib/python3.10/dist-packages (from jsonschema>=3.0->altair<6.0,>=4.2.0->gradio) (23.2.0)\n",
            "Requirement already satisfied: jsonschema-specifications>=2023.03.6 in /usr/local/lib/python3.10/dist-packages (from jsonschema>=3.0->altair<6.0,>=4.2.0->gradio) (2023.12.1)\n",
            "Requirement already satisfied: referencing>=0.28.4 in /usr/local/lib/python3.10/dist-packages (from jsonschema>=3.0->altair<6.0,>=4.2.0->gradio) (0.34.0)\n",
            "Requirement already satisfied: rpds-py>=0.7.1 in /usr/local/lib/python3.10/dist-packages (from jsonschema>=3.0->altair<6.0,>=4.2.0->gradio) (0.18.0)\n",
            "Requirement already satisfied: six>=1.5 in /usr/local/lib/python3.10/dist-packages (from python-dateutil>=2.7->matplotlib~=3.0->gradio) (1.16.0)\n",
            "Requirement already satisfied: markdown-it-py>=2.2.0 in /usr/local/lib/python3.10/dist-packages (from rich>=10.11.0->typer<1.0,>=0.12->gradio) (3.0.0)\n",
            "Requirement already satisfied: pygments<3.0.0,>=2.13.0 in /usr/local/lib/python3.10/dist-packages (from rich>=10.11.0->typer<1.0,>=0.12->gradio) (2.16.1)\n",
            "Requirement already satisfied: exceptiongroup in /usr/local/lib/python3.10/dist-packages (from anyio->httpx>=0.24.1->gradio) (1.2.1)\n",
            "Requirement already satisfied: charset-normalizer<4,>=2 in /usr/local/lib/python3.10/dist-packages (from requests->huggingface-hub>=0.19.3->gradio) (3.3.2)\n",
            "Requirement already satisfied: mdurl~=0.1 in /usr/local/lib/python3.10/dist-packages (from markdown-it-py>=2.2.0->rich>=10.11.0->typer<1.0,>=0.12->gradio) (0.1.2)\n",
            "Building wheels for collected packages: ffmpy\n",
            "  Building wheel for ffmpy (setup.py) ... \u001b[?25l\u001b[?25hdone\n",
            "  Created wheel for ffmpy: filename=ffmpy-0.3.2-py3-none-any.whl size=5584 sha256=a25416d988c8ec94167710dc1270ff14fa08ecad9334fc564672ff8ec49f6ca8\n",
            "  Stored in directory: /root/.cache/pip/wheels/bd/65/9a/671fc6dcde07d4418df0c592f8df512b26d7a0029c2a23dd81\n",
            "Successfully built ffmpy\n",
            "Installing collected packages: pydub, ffmpy, websockets, tomlkit, shellingham, semantic-version, ruff, python-multipart, orjson, h11, aiofiles, uvicorn, starlette, httpcore, typer, httpx, fastapi, gradio-client, gradio\n",
            "  Attempting uninstall: typer\n",
            "    Found existing installation: typer 0.9.4\n",
            "    Uninstalling typer-0.9.4:\n",
            "      Successfully uninstalled typer-0.9.4\n",
            "\u001b[31mERROR: pip's dependency resolver does not currently take into account all the packages that are installed. This behaviour is the source of the following dependency conflicts.\n",
            "spacy 3.7.4 requires typer<0.10.0,>=0.3.0, but you have typer 0.12.3 which is incompatible.\n",
            "weasel 0.3.4 requires typer<0.10.0,>=0.3.0, but you have typer 0.12.3 which is incompatible.\u001b[0m\u001b[31m\n",
            "\u001b[0mSuccessfully installed aiofiles-23.2.1 fastapi-0.110.2 ffmpy-0.3.2 gradio-4.27.0 gradio-client-0.15.1 h11-0.14.0 httpcore-1.0.5 httpx-0.27.0 orjson-3.10.1 pydub-0.25.1 python-multipart-0.0.9 ruff-0.4.1 semantic-version-2.10.0 shellingham-1.5.4 starlette-0.37.2 tomlkit-0.12.0 typer-0.12.3 uvicorn-0.29.0 websockets-11.0.3\n",
            "Requirement already satisfied: tabulate in /usr/local/lib/python3.10/dist-packages (0.9.0)\n"
          ]
        }
      ],
      "source": [
        "! pip install gradio\n",
        "! pip install tabulate"
      ]
    },
    {
      "cell_type": "code",
      "execution_count": null,
      "metadata": {
        "id": "41Oj9zYD6maG"
      },
      "outputs": [],
      "source": [
        "import gradio as gr\n",
        "from tabulate import tabulate"
      ]
    },
    {
      "cell_type": "code",
      "execution_count": null,
      "metadata": {
        "colab": {
          "background_save": true,
          "base_uri": "https://localhost:8080/",
          "height": 646
        },
        "id": "IdI4xbA5UhKs",
        "outputId": "b8fe1304-ed73-4b7d-d9d6-1796f2abf412"
      },
      "outputs": [
        {
          "name": "stdout",
          "output_type": "stream",
          "text": [
            "Setting queue=True in a Colab notebook requires sharing enabled. Setting `share=True` (you can turn this off by setting `share=False` in `launch()` explicitly).\n",
            "\n",
            "Colab notebook detected. This cell will run indefinitely so that you can see errors and logs. To turn off, set debug=False in launch().\n",
            "Running on public URL: https://755c287e2036296a91.gradio.live\n",
            "\n",
            "This share link expires in 72 hours. For free permanent hosting and GPU upgrades, run `gradio deploy` from Terminal to deploy to Spaces (https://huggingface.co/spaces)\n"
          ]
        },
        {
          "data": {
            "text/html": [
              "<div><iframe src=\"https://755c287e2036296a91.gradio.live\" width=\"100%\" height=\"500\" allow=\"autoplay; camera; microphone; clipboard-read; clipboard-write;\" frameborder=\"0\" allowfullscreen></iframe></div>"
            ],
            "text/plain": [
              "<IPython.core.display.HTML object>"
            ]
          },
          "metadata": {},
          "output_type": "display_data"
        }
      ],
      "source": [
        "def patent(query):\n",
        "    results = patent_db.similarity_search_with_score(query, 10)\n",
        "\n",
        "    # Prepare the table data from the results\n",
        "    table_data = []\n",
        "    for result in results:\n",
        "        document = result[0]\n",
        "        score = result[1]\n",
        "        application_number = document.metadata['application_number']\n",
        "        application_date = document.metadata['application_date']\n",
        "        title = document.metadata['title']\n",
        "        abstract = document.metadata['abstract']\n",
        "        claims = document.metadata['claims']\n",
        "\n",
        "        table_data.append((application_number, application_date, title, abstract, claims))\n",
        "\n",
        "    headers = [\"Application Number\", \"Application Date\", \"Title\", \"Abstract\", \"Claims\", 'Score']\n",
        "\n",
        "    formatted_table = tabulate(table_data, headers=headers, tablefmt=\"html\")\n",
        "\n",
        "    return formatted_table\n",
        "\n",
        "demo = gr.Interface(\n",
        "    fn=patent,\n",
        "    inputs=gr.Textbox(lines=1, placeholder=\"Input query text\"),\n",
        "    outputs=\"html\"\n",
        ")\n",
        "\n",
        "demo.launch(debug=True)"
      ]
    }
  ],
  "metadata": {
    "accelerator": "GPU",
    "colab": {
      "collapsed_sections": [
        "Yk13lDBvWeIp",
        "5zW-qdVZWf3K",
        "7fE6oaDCXp5o",
        "VxIPvkC5YtN8",
        "i5l9gpVucwxt",
        "r5MA54J0jHzD",
        "9dxosnt6jf7J",
        "P6aOQv7bnC2c",
        "C91qFuBsmmmg"
      ],
      "gpuType": "T4",
      "provenance": []
    },
    "kernelspec": {
      "display_name": "Python 3",
      "name": "python3"
    },
    "language_info": {
      "name": "python"
    }
  },
  "nbformat": 4,
  "nbformat_minor": 0
}
